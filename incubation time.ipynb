{
 "cells": [
  {
   "cell_type": "code",
   "execution_count": 1,
   "metadata": {},
   "outputs": [],
   "source": [
    "import os\n",
    "import re\n",
    "import json\n",
    "from tqdm import tqdm"
   ]
  },
  {
   "cell_type": "code",
   "execution_count": 2,
   "metadata": {},
   "outputs": [],
   "source": [
    "data_path = \"/home/phani/cord-19_2020-04-10/2020-04-10/biorxiv_medrxiv/\"\n",
    "docs= []\n",
    "\n",
    "num_files = 0\n",
    "#num_corrupted = 0\n"
   ]
  },
  {
   "cell_type": "code",
   "execution_count": 3,
   "metadata": {},
   "outputs": [
    {
     "name": "stderr",
     "output_type": "stream",
     "text": [
      "  8%|▊         | 129/1625 [00:00<00:01, 1282.42it/s]"
     ]
    },
    {
     "name": "stdout",
     "output_type": "stream",
     "text": [
      "Importing files from /home/phani/cord-19_2020-04-10/2020-04-10/biorxiv_medrxiv/pdf_json/\n"
     ]
    },
    {
     "name": "stderr",
     "output_type": "stream",
     "text": [
      "100%|██████████| 1625/1625 [00:00<00:00, 1628.58it/s]\n"
     ]
    }
   ],
   "source": [
    "for d in [ data_path + \"pdf_json/\" ]:\n",
    "    print(f\"Importing files from {d}\")\n",
    "    files = os.listdir(d)\n",
    "    num_files += len(files)\n",
    "    for file in tqdm(files):\n",
    "        file_path = d + file\n",
    "        \n",
    "        try:\n",
    "            j = json.load(open(file_path, \"rb\"))\n",
    "        except:\n",
    "            num_corrupted += 1\n",
    "            #print(f\"Erron: Could not open {file_path}\")\n",
    "\n",
    "        try:\n",
    "            title = j[\"metadata\"][\"title\"]\n",
    "        except:\n",
    "            title = \"\"\n",
    "\n",
    "        try:\n",
    "            abstract = j[\"abstract\"][0][\"text\"]\n",
    "        except:\n",
    "            abstract = \"\"\n",
    "\n",
    "        full_text = \"\"\n",
    "\n",
    "        for text in j[\"body_text\"]:\n",
    "            full_text += text[\"text\"] + \"\\n\\n\"\n",
    "\n",
    "        docs.append([title, abstract, full_text])"
   ]
  },
  {
   "cell_type": "code",
   "execution_count": 4,
   "metadata": {},
   "outputs": [
    {
     "name": "stderr",
     "output_type": "stream",
     "text": [
      "[nltk_data] Downloading package punkt to /home/phani/nltk_data...\n",
      "[nltk_data]   Package punkt is already up-to-date!\n"
     ]
    },
    {
     "data": {
      "text/plain": [
       "True"
      ]
     },
     "execution_count": 4,
     "metadata": {},
     "output_type": "execute_result"
    }
   ],
   "source": [
    "import pandas as pd\n",
    "import nltk\n",
    "import nltk.data\n",
    "import statistics\n",
    "nltk.download('punkt')\n"
   ]
  },
  {
   "cell_type": "code",
   "execution_count": 6,
   "metadata": {},
   "outputs": [],
   "source": [
    "sentence_detector = nltk.data.load('/home/phani/nltk_data/tokenizers/punkt/english.pickle')"
   ]
  },
  {
   "cell_type": "code",
   "execution_count": 7,
   "metadata": {},
   "outputs": [
    {
     "name": "stderr",
     "output_type": "stream",
     "text": [
      "  3%|▎         | 13/417 [00:00<00:03, 123.42it/s]"
     ]
    },
    {
     "name": "stdout",
     "output_type": "stream",
     "text": [
      "Searching for incubation times in dataset.\n"
     ]
    },
    {
     "name": "stderr",
     "output_type": "stream",
     "text": [
      "100%|██████████| 417/417 [00:03<00:00, 123.55it/s]\n"
     ]
    }
   ],
   "source": [
    "df = pd.DataFrame(docs, columns=[\"title\", \"abstract\", \"full_text\"])\n",
    "docs = \"\" \n",
    "\n",
    "incubation = df[df[\"full_text\"].str.contains(\"incubation\")]\n",
    "\n",
    "texts = incubation[\"full_text\"].values\n",
    "\n",
    "incubation_times = []\n",
    "\n",
    "# Get incubation time from sentences like:\n",
    "# \"Furthermore, the mean incubation period for SARS-CoV-2 infection has been reported to be from 0 to 14 days.\"\n",
    "print(\"Searching for incubation times in dataset.\")\n",
    "for text in tqdm(texts):\n",
    "    for sentence in sentence_detector.tokenize(text):\n",
    "        if \"incubation\" in sentence:\n",
    "            time = re.findall(r\" (\\d{1,2}(?:\\.\\d{1,2})?)? ?(?:to|-) ?(\\d{1,2}(?:\\.\\d{1,2})?) day\", sentence)\n",
    "            if len(time) == 1:\n",
    "                if time[0][0] == \"\":\n",
    "                    time = float(time[0][1])\n",
    "                    if time <= 30:  # discard unrealistic data\n",
    "                        incubation_times.append(time)\n",
    "                else:\n",
    "                    # when time is given as range, add all possible values\n",
    "                    a = int(float(time[0][0]))  # first make float from str, then int\n",
    "                    b = int(float(time[0][1]))\n",
    "                    if b <= 30:  # discard unrealistic data\n",
    "                        incubation_times += [*range(a, b+1)]"
   ]
  },
  {
   "cell_type": "code",
   "execution_count": 8,
   "metadata": {},
   "outputs": [],
   "source": [
    "import csv\n",
    "with open(\"incubation_time.csv\", \"w\", newline='') as f:\n",
    "    w = csv.writer(f, quoting=csv.QUOTE_MINIMAL)\n",
    "    w.writerow(incubation_times)"
   ]
  },
  {
   "cell_type": "code",
   "execution_count": 9,
   "metadata": {},
   "outputs": [
    {
     "name": "stdout",
     "output_type": "stream",
     "text": [
      "The mean projected incubation time is 7.95 days.\n"
     ]
    }
   ],
   "source": [
    "print(f\"The mean projected incubation time is {statistics.mean(incubation_times):.2f} days.\")\n"
   ]
  },
  {
   "cell_type": "code",
   "execution_count": 10,
   "metadata": {},
   "outputs": [
    {
     "data": {
      "image/png": "[encoded data removed]",
      "text/plain": [
       "<Figure size 432x288 with 1 Axes>"
      ]
     },
     "metadata": {},
     "output_type": "display_data"
    }
   ],
   "source": [
    "import matplotlib.pyplot as plt\n",
    "\n",
    "from matplotlib import style\n",
    "\n",
    "style.use(\"ggplot\")\n",
    "\n",
    "\n",
    "plt.hist(incubation_times, bins=30)\n",
    "plt.ylabel(\"bins count\")\n",
    "plt.xlabel(\"incubation time (days)\")\n",
    "plt.xlim(0, 30)\n",
    "plt.show()"
   ]
  },
  {
   "cell_type": "code",
   "execution_count": null,
   "metadata": {},
   "outputs": [],
   "source": []
  }
 ],
 "metadata": {
  "kernelspec": {
   "display_name": "Python 3",
   "language": "python",
   "name": "python3"
  },
  "language_info": {
   "codemirror_mode": {
    "name": "ipython",
    "version": 3
   },
   "file_extension": ".py",
   "mimetype": "text/x-python",
   "name": "python",
   "nbconvert_exporter": "python",
   "pygments_lexer": "ipython3",
   "version": "3.8.2"
  }
 },
 "nbformat": 4,
 "nbformat_minor": 4
}
