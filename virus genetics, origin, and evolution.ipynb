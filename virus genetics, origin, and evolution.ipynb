{
 "cells": [
  {
   "cell_type": "code",
   "execution_count": 2,
   "metadata": {},
   "outputs": [],
   "source": [
    "import pandas as pd\n",
    "import re\n",
    "import matplotlib.pyplot as plt\n",
    "import seaborn as sns\n",
    "from nltk.tokenize import word_tokenize, sent_tokenize\n",
    "from nltk.corpus import stopwords\n",
    "from nltk.stem import LancasterStemmer, PorterStemmer, SnowballStemmer, WordNetLemmatizer"
   ]
  },
  {
   "cell_type": "code",
   "execution_count": 3,
   "metadata": {},
   "outputs": [
    {
     "name": "stderr",
     "output_type": "stream",
     "text": [
      "/home/phani/.local/lib/python3.8/site-packages/IPython/core/interactiveshell.py:3071: DtypeWarning: Columns (1,4,5,6,13,14,15,16) have mixed types.Specify dtype option on import or set low_memory=False.\n",
      "  has_raised = await self.run_ast_nodes(code_ast.body, cell_name,\n"
     ]
    },
    {
     "data": {
      "text/html": [
       "<div>\n",
       "<style scoped>\n",
       "    .dataframe tbody tr th:only-of-type {\n",
       "        vertical-align: middle;\n",
       "    }\n",
       "\n",
       "    .dataframe tbody tr th {\n",
       "        vertical-align: top;\n",
       "    }\n",
       "\n",
       "    .dataframe thead th {\n",
       "        text-align: right;\n",
       "    }\n",
       "</style>\n",
       "<table border=\"1\" class=\"dataframe\">\n",
       "  <thead>\n",
       "    <tr style=\"text-align: right;\">\n",
       "      <th></th>\n",
       "      <th>cord_uid</th>\n",
       "      <th>sha</th>\n",
       "      <th>source_x</th>\n",
       "      <th>title</th>\n",
       "      <th>doi</th>\n",
       "      <th>pmcid</th>\n",
       "      <th>pubmed_id</th>\n",
       "      <th>license</th>\n",
       "      <th>abstract</th>\n",
       "      <th>publish_time</th>\n",
       "      <th>authors</th>\n",
       "      <th>journal</th>\n",
       "      <th>mag_id</th>\n",
       "      <th>who_covidence_id</th>\n",
       "      <th>arxiv_id</th>\n",
       "      <th>pdf_json_files</th>\n",
       "      <th>pmc_json_files</th>\n",
       "      <th>url</th>\n",
       "      <th>s2_id</th>\n",
       "    </tr>\n",
       "  </thead>\n",
       "  <tbody>\n",
       "    <tr>\n",
       "      <th>0</th>\n",
       "      <td>ug7v899j</td>\n",
       "      <td>d1aafb70c066a2068b02786f8929fd9c900897fb</td>\n",
       "      <td>PMC</td>\n",
       "      <td>Clinical features of culture-proven Mycoplasma...</td>\n",
       "      <td>10.1186/1471-2334-1-6</td>\n",
       "      <td>PMC35282</td>\n",
       "      <td>1.14726e+07</td>\n",
       "      <td>no-cc</td>\n",
       "      <td>OBJECTIVE: This retrospective chart review des...</td>\n",
       "      <td>2001-07-04</td>\n",
       "      <td>Madani, Tariq A; Al-Ghamdi, Aisha A</td>\n",
       "      <td>BMC Infect Dis</td>\n",
       "      <td>NaN</td>\n",
       "      <td>NaN</td>\n",
       "      <td>NaN</td>\n",
       "      <td>document_parses/pdf_json/d1aafb70c066a2068b027...</td>\n",
       "      <td>document_parses/pmc_json/PMC35282.xml.json</td>\n",
       "      <td>https://www.ncbi.nlm.nih.gov/pmc/articles/PMC3...</td>\n",
       "      <td>NaN</td>\n",
       "    </tr>\n",
       "    <tr>\n",
       "      <th>1</th>\n",
       "      <td>02tnwd4m</td>\n",
       "      <td>6b0567729c2143a66d737eb0a2f63f2dce2e5a7d</td>\n",
       "      <td>PMC</td>\n",
       "      <td>Nitric oxide: a pro-inflammatory mediator in l...</td>\n",
       "      <td>10.1186/rr14</td>\n",
       "      <td>PMC59543</td>\n",
       "      <td>1.1668e+07</td>\n",
       "      <td>no-cc</td>\n",
       "      <td>Inflammatory diseases of the respiratory tract...</td>\n",
       "      <td>2000-08-15</td>\n",
       "      <td>Vliet, Albert van der; Eiserich, Jason P; Cros...</td>\n",
       "      <td>Respir Res</td>\n",
       "      <td>NaN</td>\n",
       "      <td>NaN</td>\n",
       "      <td>NaN</td>\n",
       "      <td>document_parses/pdf_json/6b0567729c2143a66d737...</td>\n",
       "      <td>document_parses/pmc_json/PMC59543.xml.json</td>\n",
       "      <td>https://www.ncbi.nlm.nih.gov/pmc/articles/PMC5...</td>\n",
       "      <td>NaN</td>\n",
       "    </tr>\n",
       "    <tr>\n",
       "      <th>2</th>\n",
       "      <td>ejv2xln0</td>\n",
       "      <td>06ced00a5fc04215949aa72528f2eeaae1d58927</td>\n",
       "      <td>PMC</td>\n",
       "      <td>Surfactant protein-D and pulmonary host defense</td>\n",
       "      <td>10.1186/rr19</td>\n",
       "      <td>PMC59549</td>\n",
       "      <td>1.1668e+07</td>\n",
       "      <td>no-cc</td>\n",
       "      <td>Surfactant protein-D (SP-D) participates in th...</td>\n",
       "      <td>2000-08-25</td>\n",
       "      <td>Crouch, Erika C</td>\n",
       "      <td>Respir Res</td>\n",
       "      <td>NaN</td>\n",
       "      <td>NaN</td>\n",
       "      <td>NaN</td>\n",
       "      <td>document_parses/pdf_json/06ced00a5fc04215949aa...</td>\n",
       "      <td>document_parses/pmc_json/PMC59549.xml.json</td>\n",
       "      <td>https://www.ncbi.nlm.nih.gov/pmc/articles/PMC5...</td>\n",
       "      <td>NaN</td>\n",
       "    </tr>\n",
       "    <tr>\n",
       "      <th>3</th>\n",
       "      <td>2b73a28n</td>\n",
       "      <td>348055649b6b8cf2b9a376498df9bf41f7123605</td>\n",
       "      <td>PMC</td>\n",
       "      <td>Role of endothelin-1 in lung disease</td>\n",
       "      <td>10.1186/rr44</td>\n",
       "      <td>PMC59574</td>\n",
       "      <td>1.16869e+07</td>\n",
       "      <td>no-cc</td>\n",
       "      <td>Endothelin-1 (ET-1) is a 21 amino acid peptide...</td>\n",
       "      <td>2001-02-22</td>\n",
       "      <td>Fagan, Karen A; McMurtry, Ivan F; Rodman, David M</td>\n",
       "      <td>Respir Res</td>\n",
       "      <td>NaN</td>\n",
       "      <td>NaN</td>\n",
       "      <td>NaN</td>\n",
       "      <td>document_parses/pdf_json/348055649b6b8cf2b9a37...</td>\n",
       "      <td>document_parses/pmc_json/PMC59574.xml.json</td>\n",
       "      <td>https://www.ncbi.nlm.nih.gov/pmc/articles/PMC5...</td>\n",
       "      <td>NaN</td>\n",
       "    </tr>\n",
       "    <tr>\n",
       "      <th>4</th>\n",
       "      <td>9785vg6d</td>\n",
       "      <td>5f48792a5fa08bed9f56016f4981ae2ca6031b32</td>\n",
       "      <td>PMC</td>\n",
       "      <td>Gene expression in epithelial cells in respons...</td>\n",
       "      <td>10.1186/rr61</td>\n",
       "      <td>PMC59580</td>\n",
       "      <td>1.16869e+07</td>\n",
       "      <td>no-cc</td>\n",
       "      <td>Respiratory syncytial virus (RSV) and pneumoni...</td>\n",
       "      <td>2001-05-11</td>\n",
       "      <td>Domachowske, Joseph B; Bonville, Cynthia A; Ro...</td>\n",
       "      <td>Respir Res</td>\n",
       "      <td>NaN</td>\n",
       "      <td>NaN</td>\n",
       "      <td>NaN</td>\n",
       "      <td>document_parses/pdf_json/5f48792a5fa08bed9f560...</td>\n",
       "      <td>document_parses/pmc_json/PMC59580.xml.json</td>\n",
       "      <td>https://www.ncbi.nlm.nih.gov/pmc/articles/PMC5...</td>\n",
       "      <td>NaN</td>\n",
       "    </tr>\n",
       "  </tbody>\n",
       "</table>\n",
       "</div>"
      ],
      "text/plain": [
       "   cord_uid                                       sha source_x  \\\n",
       "0  ug7v899j  d1aafb70c066a2068b02786f8929fd9c900897fb      PMC   \n",
       "1  02tnwd4m  6b0567729c2143a66d737eb0a2f63f2dce2e5a7d      PMC   \n",
       "2  ejv2xln0  06ced00a5fc04215949aa72528f2eeaae1d58927      PMC   \n",
       "3  2b73a28n  348055649b6b8cf2b9a376498df9bf41f7123605      PMC   \n",
       "4  9785vg6d  5f48792a5fa08bed9f56016f4981ae2ca6031b32      PMC   \n",
       "\n",
       "                                               title                    doi  \\\n",
       "0  Clinical features of culture-proven Mycoplasma...  10.1186/1471-2334-1-6   \n",
       "1  Nitric oxide: a pro-inflammatory mediator in l...           10.1186/rr14   \n",
       "2    Surfactant protein-D and pulmonary host defense           10.1186/rr19   \n",
       "3               Role of endothelin-1 in lung disease           10.1186/rr44   \n",
       "4  Gene expression in epithelial cells in respons...           10.1186/rr61   \n",
       "\n",
       "      pmcid    pubmed_id license  \\\n",
       "0  PMC35282  1.14726e+07   no-cc   \n",
       "1  PMC59543   1.1668e+07   no-cc   \n",
       "2  PMC59549   1.1668e+07   no-cc   \n",
       "3  PMC59574  1.16869e+07   no-cc   \n",
       "4  PMC59580  1.16869e+07   no-cc   \n",
       "\n",
       "                                            abstract publish_time  \\\n",
       "0  OBJECTIVE: This retrospective chart review des...   2001-07-04   \n",
       "1  Inflammatory diseases of the respiratory tract...   2000-08-15   \n",
       "2  Surfactant protein-D (SP-D) participates in th...   2000-08-25   \n",
       "3  Endothelin-1 (ET-1) is a 21 amino acid peptide...   2001-02-22   \n",
       "4  Respiratory syncytial virus (RSV) and pneumoni...   2001-05-11   \n",
       "\n",
       "                                             authors         journal  mag_id  \\\n",
       "0                Madani, Tariq A; Al-Ghamdi, Aisha A  BMC Infect Dis     NaN   \n",
       "1  Vliet, Albert van der; Eiserich, Jason P; Cros...      Respir Res     NaN   \n",
       "2                                    Crouch, Erika C      Respir Res     NaN   \n",
       "3  Fagan, Karen A; McMurtry, Ivan F; Rodman, David M      Respir Res     NaN   \n",
       "4  Domachowske, Joseph B; Bonville, Cynthia A; Ro...      Respir Res     NaN   \n",
       "\n",
       "  who_covidence_id arxiv_id  \\\n",
       "0              NaN      NaN   \n",
       "1              NaN      NaN   \n",
       "2              NaN      NaN   \n",
       "3              NaN      NaN   \n",
       "4              NaN      NaN   \n",
       "\n",
       "                                      pdf_json_files  \\\n",
       "0  document_parses/pdf_json/d1aafb70c066a2068b027...   \n",
       "1  document_parses/pdf_json/6b0567729c2143a66d737...   \n",
       "2  document_parses/pdf_json/06ced00a5fc04215949aa...   \n",
       "3  document_parses/pdf_json/348055649b6b8cf2b9a37...   \n",
       "4  document_parses/pdf_json/5f48792a5fa08bed9f560...   \n",
       "\n",
       "                               pmc_json_files  \\\n",
       "0  document_parses/pmc_json/PMC35282.xml.json   \n",
       "1  document_parses/pmc_json/PMC59543.xml.json   \n",
       "2  document_parses/pmc_json/PMC59549.xml.json   \n",
       "3  document_parses/pmc_json/PMC59574.xml.json   \n",
       "4  document_parses/pmc_json/PMC59580.xml.json   \n",
       "\n",
       "                                                 url  s2_id  \n",
       "0  https://www.ncbi.nlm.nih.gov/pmc/articles/PMC3...    NaN  \n",
       "1  https://www.ncbi.nlm.nih.gov/pmc/articles/PMC5...    NaN  \n",
       "2  https://www.ncbi.nlm.nih.gov/pmc/articles/PMC5...    NaN  \n",
       "3  https://www.ncbi.nlm.nih.gov/pmc/articles/PMC5...    NaN  \n",
       "4  https://www.ncbi.nlm.nih.gov/pmc/articles/PMC5...    NaN  "
      ]
     },
     "execution_count": 3,
     "metadata": {},
     "output_type": "execute_result"
    }
   ],
   "source": [
    "df = pd.read_csv(\"/home/phani/Downloads/Data/551982_1387024_bundle_archive/metadata.csv\")\n",
    "df.head()"
   ]
  },
  {
   "cell_type": "code",
   "execution_count": 4,
   "metadata": {},
   "outputs": [
    {
     "data": {
      "text/plain": [
       "cord_uid                 0\n",
       "sha                 119577\n",
       "source_x                 0\n",
       "title                   56\n",
       "doi                  60017\n",
       "pmcid               114165\n",
       "pubmed_id            82062\n",
       "license                  0\n",
       "abstract             58970\n",
       "publish_time            17\n",
       "authors               6632\n",
       "journal              11586\n",
       "mag_id              204823\n",
       "who_covidence_id    148092\n",
       "arxiv_id            202123\n",
       "pdf_json_files      119577\n",
       "pmc_json_files      138831\n",
       "url                  45856\n",
       "s2_id                28631\n",
       "dtype: int64"
      ]
     },
     "execution_count": 4,
     "metadata": {},
     "output_type": "execute_result"
    }
   ],
   "source": [
    "df.isnull().sum()"
   ]
  },
  {
   "cell_type": "code",
   "execution_count": 6,
   "metadata": {},
   "outputs": [],
   "source": [
    "#Literature source distribution\n",
    "import collections\n",
    "sourceDic = collections.defaultdict(int)\n",
    "for s in df[\"source_x\"][df[\"source_x\"].notnull()]:\n",
    "    sourceDic[s] += 1\n",
    "sizes = []\n",
    "explode = []\n",
    "labels = []\n",
    "for s in sourceDic:\n",
    "    sizes.append(sourceDic[s])\n",
    "    explode.append(0)\n",
    "    labels.append(s)"
   ]
  },
  {
   "cell_type": "code",
   "execution_count": 7,
   "metadata": {},
   "outputs": [
    {
     "data": {
      "image/png": "[encoded data removed]",
      "text/plain": [
       "<Figure size 576x576 with 1 Axes>"
      ]
     },
     "metadata": {},
     "output_type": "display_data"
    }
   ],
   "source": [
    "colors = ['gold', 'lightskyblue', 'yellowgreen', 'violet', 'lightblue', 'lightcoral']\n",
    "fig = plt.gcf()\n",
    "fig.set_size_inches(8, 8)\n",
    "plt.pie(sizes, explode=explode, labels=labels, colors = colors, autopct='%1.1f%%', shadow=True)\n",
    "plt.axis('equal')\n",
    "plt.show()"
   ]
  },
  {
   "cell_type": "code",
   "execution_count": 8,
   "metadata": {},
   "outputs": [],
   "source": [
    "#Publish year distribution\n",
    "yearList = []\n",
    "for y in df[\"publish_time\"][df[\"publish_time\"].notnull()]:\n",
    "    yearList.append(int(re.split(' |-', y)[0]))"
   ]
  },
  {
   "cell_type": "code",
   "execution_count": 9,
   "metadata": {},
   "outputs": [
    {
     "data": {
      "text/plain": [
       "Text(0, 0.5, 'Frequency')"
      ]
     },
     "execution_count": 9,
     "metadata": {},
     "output_type": "execute_result"
    },
    {
     "data": {
      "image/png": "[encoded data removed]",
      "text/plain": [
       "<Figure size 432x288 with 1 Axes>"
      ]
     },
     "metadata": {
      "needs_background": "light"
     },
     "output_type": "display_data"
    }
   ],
   "source": [
    "sns.distplot(yearList, bins = 50)\n",
    "plt.xlabel(\"Year\")\n",
    "plt.ylabel(\"Frequency\")"
   ]
  },
  {
   "cell_type": "code",
   "execution_count": 10,
   "metadata": {},
   "outputs": [
    {
     "name": "stdout",
     "output_type": "stream",
     "text": [
      "The number of articles with abstract: 145853\n"
     ]
    }
   ],
   "source": [
    "print(\"The number of articles with abstract: \" + str(sum(df[\"abstract\"].notnull())))"
   ]
  },
  {
   "cell_type": "code",
   "execution_count": 11,
   "metadata": {},
   "outputs": [
    {
     "name": "stderr",
     "output_type": "stream",
     "text": [
      "100%|██████████| 145853/145853 [12:23<00:00, 196.18it/s]"
     ]
    },
    {
     "name": "stdout",
     "output_type": "stream",
     "text": [
      "Time spent: 12.392min.\n",
      "The number of tokens: 255599\n"
     ]
    },
    {
     "name": "stderr",
     "output_type": "stream",
     "text": [
      "\n"
     ]
    }
   ],
   "source": [
    "import time\n",
    "from tqdm import tqdm\n",
    "startTime = time.time()\n",
    "absLength = []\n",
    "word2count = {}\n",
    "for abstract in tqdm(df[\"abstract\"][df[\"abstract\"].notnull()]):\n",
    "    ## Remove web links\n",
    "    abstract = re.sub('https?://\\S+|www\\.\\S+', '', abstract) \n",
    "    \n",
    "    ## Lowercase\n",
    "    abstract = abstract.lower()\n",
    "    \n",
    "    ## Remove punctuation\n",
    "    abstract = re.sub('<.*?>+', ' ', abstract)\n",
    "   # abstract = re.sub('[%s]' % re.escape(string.punctuation), ' ', abstract)\n",
    "    \n",
    "    \n",
    "     ## Remove number\n",
    "    abstract = re.sub(r'\\d+', '', abstract)\n",
    "    \n",
    "    ## Tokenize\n",
    "    words = word_tokenize(abstract)\n",
    "    \n",
    "    ## Remove stop words\n",
    "    nltk_stop_words = stopwords.words('english')\n",
    "    words = [word for word in words if word not in nltk_stop_words]\n",
    "    \n",
    "    ## Stem\n",
    "    stemmer = SnowballStemmer('english')\n",
    "    words = [stemmer.stem(word) for word in words]\n",
    "    \n",
    "    ## Lematize verbs\n",
    "    lemmatizer = WordNetLemmatizer()\n",
    "    words = [lemmatizer.lemmatize(word, pos='v') for word in words]\n",
    "    \n",
    "    ## Record length\n",
    "    absLength.append(len(words))\n",
    "    \n",
    "    \n",
    "     ## Get word count\n",
    "    for word in words:\n",
    "        count = word2count.get(word, 0)\n",
    "        word2count[word] = count + 1\n",
    "print(\"Time spent: \" + str(round((time.time() - startTime) / 60, 3)) + \"min.\")\n",
    "print(\"The number of tokens: \" + str(len(word2count)))\n",
    "    "
   ]
  },
  {
   "cell_type": "code",
   "execution_count": null,
   "metadata": {},
   "outputs": [],
   "source": [
    "# for abstract in tqdm(df[\"abstract\"][df[\"abstract\"].notnull()]):\n",
    "#      ## Remove web links\n",
    "#     abstract = re.sub('https?://\\S+|www\\.\\S+', '', abstract) "
   ]
  },
  {
   "cell_type": "code",
   "execution_count": 21,
   "metadata": {},
   "outputs": [
    {
     "data": {
      "text/html": [
       "<div>\n",
       "<style scoped>\n",
       "    .dataframe tbody tr th:only-of-type {\n",
       "        vertical-align: middle;\n",
       "    }\n",
       "\n",
       "    .dataframe tbody tr th {\n",
       "        vertical-align: top;\n",
       "    }\n",
       "\n",
       "    .dataframe thead th {\n",
       "        text-align: right;\n",
       "    }\n",
       "</style>\n",
       "<table border=\"1\" class=\"dataframe\">\n",
       "  <thead>\n",
       "    <tr style=\"text-align: right;\">\n",
       "      <th></th>\n",
       "      <th>source_x</th>\n",
       "      <th>abstract</th>\n",
       "      <th>publish_time</th>\n",
       "      <th>journal</th>\n",
       "      <th>url</th>\n",
       "    </tr>\n",
       "  </thead>\n",
       "  <tbody>\n",
       "    <tr>\n",
       "      <th>0</th>\n",
       "      <td>PMC</td>\n",
       "      <td>OBJECTIVE: This retrospective chart review des...</td>\n",
       "      <td>2001-07-04</td>\n",
       "      <td>BMC Infect Dis</td>\n",
       "      <td>https://www.ncbi.nlm.nih.gov/pmc/articles/PMC3...</td>\n",
       "    </tr>\n",
       "    <tr>\n",
       "      <th>1</th>\n",
       "      <td>PMC</td>\n",
       "      <td>Inflammatory diseases of the respiratory tract...</td>\n",
       "      <td>2000-08-15</td>\n",
       "      <td>Respir Res</td>\n",
       "      <td>https://www.ncbi.nlm.nih.gov/pmc/articles/PMC5...</td>\n",
       "    </tr>\n",
       "    <tr>\n",
       "      <th>2</th>\n",
       "      <td>PMC</td>\n",
       "      <td>Surfactant protein-D (SP-D) participates in th...</td>\n",
       "      <td>2000-08-25</td>\n",
       "      <td>Respir Res</td>\n",
       "      <td>https://www.ncbi.nlm.nih.gov/pmc/articles/PMC5...</td>\n",
       "    </tr>\n",
       "    <tr>\n",
       "      <th>3</th>\n",
       "      <td>PMC</td>\n",
       "      <td>Endothelin-1 (ET-1) is a 21 amino acid peptide...</td>\n",
       "      <td>2001-02-22</td>\n",
       "      <td>Respir Res</td>\n",
       "      <td>https://www.ncbi.nlm.nih.gov/pmc/articles/PMC5...</td>\n",
       "    </tr>\n",
       "    <tr>\n",
       "      <th>4</th>\n",
       "      <td>PMC</td>\n",
       "      <td>Respiratory syncytial virus (RSV) and pneumoni...</td>\n",
       "      <td>2001-05-11</td>\n",
       "      <td>Respir Res</td>\n",
       "      <td>https://www.ncbi.nlm.nih.gov/pmc/articles/PMC5...</td>\n",
       "    </tr>\n",
       "  </tbody>\n",
       "</table>\n",
       "</div>"
      ],
      "text/plain": [
       "  source_x                                           abstract publish_time  \\\n",
       "0      PMC  OBJECTIVE: This retrospective chart review des...   2001-07-04   \n",
       "1      PMC  Inflammatory diseases of the respiratory tract...   2000-08-15   \n",
       "2      PMC  Surfactant protein-D (SP-D) participates in th...   2000-08-25   \n",
       "3      PMC  Endothelin-1 (ET-1) is a 21 amino acid peptide...   2001-02-22   \n",
       "4      PMC  Respiratory syncytial virus (RSV) and pneumoni...   2001-05-11   \n",
       "\n",
       "          journal                                                url  \n",
       "0  BMC Infect Dis  https://www.ncbi.nlm.nih.gov/pmc/articles/PMC3...  \n",
       "1      Respir Res  https://www.ncbi.nlm.nih.gov/pmc/articles/PMC5...  \n",
       "2      Respir Res  https://www.ncbi.nlm.nih.gov/pmc/articles/PMC5...  \n",
       "3      Respir Res  https://www.ncbi.nlm.nih.gov/pmc/articles/PMC5...  \n",
       "4      Respir Res  https://www.ncbi.nlm.nih.gov/pmc/articles/PMC5...  "
      ]
     },
     "execution_count": 21,
     "metadata": {},
     "output_type": "execute_result"
    }
   ],
   "source": [
    "df1 = df[['source_x', 'abstract', 'publish_time', 'journal', 'url']]\n",
    "df1.head()"
   ]
  },
  {
   "cell_type": "code",
   "execution_count": 30,
   "metadata": {},
   "outputs": [
    {
     "data": {
      "text/plain": [
       "bioRxiv                2087\n",
       "BMJ                    2086\n",
       "PLoS One               1933\n",
       "Journal of virology    1663\n",
       "Lancet                 1094\n",
       "Nature                 1031\n",
       "Virology                943\n",
       "Surgical endoscopy      923\n",
       "Emerg Infect Dis        912\n",
       "J Med Virol             898\n",
       "Name: journal, dtype: int64"
      ]
     },
     "execution_count": 30,
     "metadata": {},
     "output_type": "execute_result"
    }
   ],
   "source": [
    "journals = df1[\"journal\"].value_counts(ascending=False)\n",
    "top_journals=journals.head(10)\n",
    "top_journals"
   ]
  },
  {
   "cell_type": "code",
   "execution_count": 85,
   "metadata": {},
   "outputs": [
    {
     "data": {
      "text/plain": [
       "<AxesSubplot:title={'center':'Top 10 Journals'}>"
      ]
     },
     "execution_count": 85,
     "metadata": {},
     "output_type": "execute_result"
    },
    {
     "data": {
      "image/png": "[encoded data removed]",
      "text/plain": [
       "<Figure size 576x576 with 1 Axes>"
      ]
     },
     "metadata": {
      "needs_background": "light"
     },
     "output_type": "display_data"
    }
   ],
   "source": [
    "import matplotlib.pyplot as plt\n",
    "colors = [\"slategray\", \"lightseagreen\", \"orange\", \"skyblue\", \"yellow\", \"coral\", \"cyan\", \"aqua\", \"lightgray\", \"palegreen\"]\n",
    "plt.title(\"Top 10 Journals\")\n",
    "top_journals.plot(kind ='barh', color = colors, figsize = (8,8))"
   ]
  },
  {
   "cell_type": "markdown",
   "metadata": {},
   "source": [
    "# What do we know about virus genetics, origin, and evolution?\n",
    "# What do we know about the virus origin and management measures at the human-animal interface?"
   ]
  },
  {
   "cell_type": "code",
   "execution_count": 37,
   "metadata": {},
   "outputs": [
    {
     "name": "stderr",
     "output_type": "stream",
     "text": [
      "<ipython-input-37-abc36461c9ff>:1: SettingWithCopyWarning: \n",
      "A value is trying to be set on a copy of a slice from a DataFrame\n",
      "\n",
      "See the caveats in the documentation: https://pandas.pydata.org/pandas-docs/stable/user_guide/indexing.html#returning-a-view-versus-a-copy\n",
      "  df1.dropna(inplace = True)\n"
     ]
    }
   ],
   "source": [
    "df1.dropna(inplace = True) "
   ]
  },
  {
   "cell_type": "code",
   "execution_count": 38,
   "metadata": {},
   "outputs": [],
   "source": [
    "\n",
    "Q1A= df1[df1['abstract'].str.contains('tracking of whole genomes')]\n",
    "\n",
    "Q1B= df1[df1['abstract'].str.contains('geographic distribution')]\n",
    "\n",
    "Q1C= df1[df1['abstract'].str.contains('genomic differences')]\n",
    "\n",
    "Q1D = df1[df1['abstract'].str.contains('Nagoya Protocol')]\n",
    "\n",
    "Q1E = df1[df1['abstract'].str.contains('Evidence that livestock ')]\n",
    "\n",
    "Q1F = df1[df1['abstract'].str.contains('field surveillance')]\n",
    "\n",
    "Q1G = df1[df1['abstract'].str.contains('genetic sequencing')]\n",
    "\n",
    "Q1H = df1[df1['abstract'].str.contains('receptor binding')]\n",
    "\n",
    "Q1I = df1[df1['abstract'].str.contains('farmers could have played a role in the origin')]\n",
    "\n",
    "Q1J = df1[df1['abstract'].str.contains('Surveillance of mixed wildlife')]\n",
    "\n",
    "Q1K = df1[df1['abstract'].str.contains('livestock farms for SARS-CoV-2')]\n",
    "\n",
    "Q1L = df1[df1['abstract'].str.contains('Experimental infections')]\n",
    "\n",
    "Q1M = df1[df1['abstract'].str.contains('Animal host')]\n",
    "\n",
    "Q1N = df1[df1['abstract'].str.contains('risk reduction strategies')]\n"
   ]
  },
  {
   "cell_type": "code",
   "execution_count": 39,
   "metadata": {},
   "outputs": [],
   "source": [
    "# Concatenating the dataframes into one table per question\n",
    "Question1= pd.concat([Q1A, Q1B, Q1C, Q1D, Q1E, Q1F, Q1G, Q1H, Q1I, Q1J, Q1K, Q1L, Q1M, Q1N])\n",
    "\n",
    "Question1.dropna(inplace = True) "
   ]
  },
  {
   "cell_type": "code",
   "execution_count": 101,
   "metadata": {},
   "outputs": [
    {
     "data": {
      "text/html": [
       "<div>\n",
       "<style scoped>\n",
       "    .dataframe tbody tr th:only-of-type {\n",
       "        vertical-align: middle;\n",
       "    }\n",
       "\n",
       "    .dataframe tbody tr th {\n",
       "        vertical-align: top;\n",
       "    }\n",
       "\n",
       "    .dataframe thead th {\n",
       "        text-align: right;\n",
       "    }\n",
       "</style>\n",
       "<table border=\"1\" class=\"dataframe\">\n",
       "  <thead>\n",
       "    <tr style=\"text-align: right;\">\n",
       "      <th></th>\n",
       "      <th>publish_time</th>\n",
       "      <th>journal</th>\n",
       "      <th>url</th>\n",
       "    </tr>\n",
       "  </thead>\n",
       "  <tbody>\n",
       "    <tr>\n",
       "      <th>657</th>\n",
       "      <td>2011-10-12</td>\n",
       "      <td>PLoS One</td>\n",
       "      <td>https://www.ncbi.nlm.nih.gov/pmc/articles/PMC3...</td>\n",
       "    </tr>\n",
       "    <tr>\n",
       "      <th>1313</th>\n",
       "      <td>2013-11-26</td>\n",
       "      <td>PLoS One</td>\n",
       "      <td>https://www.ncbi.nlm.nih.gov/pmc/articles/PMC3...</td>\n",
       "    </tr>\n",
       "    <tr>\n",
       "      <th>1745</th>\n",
       "      <td>2015-02-28</td>\n",
       "      <td>BMC Infect Dis</td>\n",
       "      <td>https://www.ncbi.nlm.nih.gov/pmc/articles/PMC4...</td>\n",
       "    </tr>\n",
       "    <tr>\n",
       "      <th>3909</th>\n",
       "      <td>2019-05-25</td>\n",
       "      <td>Viruses</td>\n",
       "      <td>https://www.ncbi.nlm.nih.gov/pmc/articles/PMC6...</td>\n",
       "    </tr>\n",
       "    <tr>\n",
       "      <th>6319</th>\n",
       "      <td>2006</td>\n",
       "      <td>Nat Rev Drug Discov</td>\n",
       "      <td>https://www.ncbi.nlm.nih.gov/pmc/articles/PMC7...</td>\n",
       "    </tr>\n",
       "  </tbody>\n",
       "</table>\n",
       "</div>"
      ],
      "text/plain": [
       "     publish_time              journal  \\\n",
       "657    2011-10-12             PLoS One   \n",
       "1313   2013-11-26             PLoS One   \n",
       "1745   2015-02-28       BMC Infect Dis   \n",
       "3909   2019-05-25              Viruses   \n",
       "6319         2006  Nat Rev Drug Discov   \n",
       "\n",
       "                                                    url  \n",
       "657   https://www.ncbi.nlm.nih.gov/pmc/articles/PMC3...  \n",
       "1313  https://www.ncbi.nlm.nih.gov/pmc/articles/PMC3...  \n",
       "1745  https://www.ncbi.nlm.nih.gov/pmc/articles/PMC4...  \n",
       "3909  https://www.ncbi.nlm.nih.gov/pmc/articles/PMC6...  \n",
       "6319  https://www.ncbi.nlm.nih.gov/pmc/articles/PMC7...  "
      ]
     },
     "execution_count": 101,
     "metadata": {},
     "output_type": "execute_result"
    }
   ],
   "source": [
    "result = Question1[['publish_time', 'journal', 'url']]\n",
    "result.head()"
   ]
  },
  {
   "cell_type": "code",
   "execution_count": 93,
   "metadata": {},
   "outputs": [
    {
     "data": {
      "text/plain": [
       "(633, 3)"
      ]
     },
     "execution_count": 93,
     "metadata": {},
     "output_type": "execute_result"
    }
   ],
   "source": [
    "result.shape"
   ]
  },
  {
   "cell_type": "code",
   "execution_count": 94,
   "metadata": {},
   "outputs": [
    {
     "name": "stdout",
     "output_type": "stream",
     "text": [
      "Articles realated to the virus genetics, origin, and evolution\n",
      "\n"
     ]
    },
    {
     "data": {
      "text/html": [
       "<div>\n",
       "<style scoped>\n",
       "    .dataframe tbody tr th:only-of-type {\n",
       "        vertical-align: middle;\n",
       "    }\n",
       "\n",
       "    .dataframe tbody tr th {\n",
       "        vertical-align: top;\n",
       "    }\n",
       "\n",
       "    .dataframe thead th {\n",
       "        text-align: right;\n",
       "    }\n",
       "</style>\n",
       "<table border=\"1\" class=\"dataframe\">\n",
       "  <thead>\n",
       "    <tr style=\"text-align: right;\">\n",
       "      <th></th>\n",
       "      <th>publish_time</th>\n",
       "      <th>journal</th>\n",
       "      <th>url</th>\n",
       "    </tr>\n",
       "  </thead>\n",
       "  <tbody>\n",
       "    <tr>\n",
       "      <th>657</th>\n",
       "      <td>2011-10-12</td>\n",
       "      <td>PLoS One</td>\n",
       "      <td>https://www.ncbi.nlm.nih.gov/pmc/articles/PMC3...</td>\n",
       "    </tr>\n",
       "    <tr>\n",
       "      <th>1313</th>\n",
       "      <td>2013-11-26</td>\n",
       "      <td>PLoS One</td>\n",
       "      <td>https://www.ncbi.nlm.nih.gov/pmc/articles/PMC3...</td>\n",
       "    </tr>\n",
       "    <tr>\n",
       "      <th>1745</th>\n",
       "      <td>2015-02-28</td>\n",
       "      <td>BMC Infect Dis</td>\n",
       "      <td>https://www.ncbi.nlm.nih.gov/pmc/articles/PMC4...</td>\n",
       "    </tr>\n",
       "    <tr>\n",
       "      <th>3909</th>\n",
       "      <td>2019-05-25</td>\n",
       "      <td>Viruses</td>\n",
       "      <td>https://www.ncbi.nlm.nih.gov/pmc/articles/PMC6...</td>\n",
       "    </tr>\n",
       "    <tr>\n",
       "      <th>6319</th>\n",
       "      <td>2006</td>\n",
       "      <td>Nat Rev Drug Discov</td>\n",
       "      <td>https://www.ncbi.nlm.nih.gov/pmc/articles/PMC7...</td>\n",
       "    </tr>\n",
       "    <tr>\n",
       "      <th>7246</th>\n",
       "      <td>1994-03-01</td>\n",
       "      <td>J Med Entomol</td>\n",
       "      <td>https://www.ncbi.nlm.nih.gov/pmc/articles/PMC7...</td>\n",
       "    </tr>\n",
       "    <tr>\n",
       "      <th>7651</th>\n",
       "      <td>2016-02-09</td>\n",
       "      <td>Disaster Med Public Health Prep</td>\n",
       "      <td>https://www.ncbi.nlm.nih.gov/pmc/articles/PMC7...</td>\n",
       "    </tr>\n",
       "    <tr>\n",
       "      <th>10550</th>\n",
       "      <td>2001-10-10</td>\n",
       "      <td>Clin Ther</td>\n",
       "      <td>https://www.ncbi.nlm.nih.gov/pmc/articles/PMC7...</td>\n",
       "    </tr>\n",
       "    <tr>\n",
       "      <th>12289</th>\n",
       "      <td>2020-07-17</td>\n",
       "      <td>Virol J</td>\n",
       "      <td>https://www.ncbi.nlm.nih.gov/pmc/articles/PMC7...</td>\n",
       "    </tr>\n",
       "    <tr>\n",
       "      <th>13488</th>\n",
       "      <td>2017-10-04</td>\n",
       "      <td>Open Forum Infect Dis</td>\n",
       "      <td>https://www.ncbi.nlm.nih.gov/pmc/articles/PMC7...</td>\n",
       "    </tr>\n",
       "    <tr>\n",
       "      <th>14160</th>\n",
       "      <td>2006</td>\n",
       "      <td>Innovative Internet Community Systems</td>\n",
       "      <td>https://www.ncbi.nlm.nih.gov/pmc/articles/PMC7...</td>\n",
       "    </tr>\n",
       "    <tr>\n",
       "      <th>16205</th>\n",
       "      <td>2020-02-23</td>\n",
       "      <td>Emerging and Transboundary Animal Viruses</td>\n",
       "      <td>https://www.ncbi.nlm.nih.gov/pmc/articles/PMC7...</td>\n",
       "    </tr>\n",
       "    <tr>\n",
       "      <th>18862</th>\n",
       "      <td>2020-03-24</td>\n",
       "      <td>Advances in Information Retrieval</td>\n",
       "      <td>https://www.ncbi.nlm.nih.gov/pmc/articles/PMC7...</td>\n",
       "    </tr>\n",
       "    <tr>\n",
       "      <th>28359</th>\n",
       "      <td>2017</td>\n",
       "      <td>Biological &amp; pharmaceutical bulletin</td>\n",
       "      <td>https://doi.org/10.1248/bpb.b17-00241; https:/...</td>\n",
       "    </tr>\n",
       "    <tr>\n",
       "      <th>28487</th>\n",
       "      <td>2020-05-19</td>\n",
       "      <td>Otolaryngology--head and neck surgery : offici...</td>\n",
       "      <td>https://doi.org/10.1177/0194599820929957; http...</td>\n",
       "    </tr>\n",
       "    <tr>\n",
       "      <th>30677</th>\n",
       "      <td>2019</td>\n",
       "      <td>Systematic reviews</td>\n",
       "      <td>https://doi.org/10.1186/s13643-019-1024-6; htt...</td>\n",
       "    </tr>\n",
       "    <tr>\n",
       "      <th>33995</th>\n",
       "      <td>2013</td>\n",
       "      <td>Immunological reviews</td>\n",
       "      <td>https://doi.org/10.1111/imr.12091; https://www...</td>\n",
       "    </tr>\n",
       "    <tr>\n",
       "      <th>34000</th>\n",
       "      <td>2020-06-04</td>\n",
       "      <td>Journal of medical Internet research</td>\n",
       "      <td>https://doi.org/10.2196/19981; https://www.ncb...</td>\n",
       "    </tr>\n",
       "    <tr>\n",
       "      <th>34192</th>\n",
       "      <td>2017</td>\n",
       "      <td>Journal of virology</td>\n",
       "      <td>https://doi.org/10.1128/jvi.01504-16; https://...</td>\n",
       "    </tr>\n",
       "    <tr>\n",
       "      <th>42308</th>\n",
       "      <td>2018</td>\n",
       "      <td>Research in social &amp; administrative pharmacy :...</td>\n",
       "      <td>https://doi.org/10.1016/j.sapharm.2018.10.003;...</td>\n",
       "    </tr>\n",
       "  </tbody>\n",
       "</table>\n",
       "</div>"
      ],
      "text/plain": [
       "      publish_time                                            journal  \\\n",
       "657     2011-10-12                                           PLoS One   \n",
       "1313    2013-11-26                                           PLoS One   \n",
       "1745    2015-02-28                                     BMC Infect Dis   \n",
       "3909    2019-05-25                                            Viruses   \n",
       "6319          2006                                Nat Rev Drug Discov   \n",
       "7246    1994-03-01                                      J Med Entomol   \n",
       "7651    2016-02-09                    Disaster Med Public Health Prep   \n",
       "10550   2001-10-10                                          Clin Ther   \n",
       "12289   2020-07-17                                            Virol J   \n",
       "13488   2017-10-04                              Open Forum Infect Dis   \n",
       "14160         2006              Innovative Internet Community Systems   \n",
       "16205   2020-02-23          Emerging and Transboundary Animal Viruses   \n",
       "18862   2020-03-24                  Advances in Information Retrieval   \n",
       "28359         2017               Biological & pharmaceutical bulletin   \n",
       "28487   2020-05-19  Otolaryngology--head and neck surgery : offici...   \n",
       "30677         2019                                 Systematic reviews   \n",
       "33995         2013                              Immunological reviews   \n",
       "34000   2020-06-04               Journal of medical Internet research   \n",
       "34192         2017                                Journal of virology   \n",
       "42308         2018  Research in social & administrative pharmacy :...   \n",
       "\n",
       "                                                     url  \n",
       "657    https://www.ncbi.nlm.nih.gov/pmc/articles/PMC3...  \n",
       "1313   https://www.ncbi.nlm.nih.gov/pmc/articles/PMC3...  \n",
       "1745   https://www.ncbi.nlm.nih.gov/pmc/articles/PMC4...  \n",
       "3909   https://www.ncbi.nlm.nih.gov/pmc/articles/PMC6...  \n",
       "6319   https://www.ncbi.nlm.nih.gov/pmc/articles/PMC7...  \n",
       "7246   https://www.ncbi.nlm.nih.gov/pmc/articles/PMC7...  \n",
       "7651   https://www.ncbi.nlm.nih.gov/pmc/articles/PMC7...  \n",
       "10550  https://www.ncbi.nlm.nih.gov/pmc/articles/PMC7...  \n",
       "12289  https://www.ncbi.nlm.nih.gov/pmc/articles/PMC7...  \n",
       "13488  https://www.ncbi.nlm.nih.gov/pmc/articles/PMC7...  \n",
       "14160  https://www.ncbi.nlm.nih.gov/pmc/articles/PMC7...  \n",
       "16205  https://www.ncbi.nlm.nih.gov/pmc/articles/PMC7...  \n",
       "18862  https://www.ncbi.nlm.nih.gov/pmc/articles/PMC7...  \n",
       "28359  https://doi.org/10.1248/bpb.b17-00241; https:/...  \n",
       "28487  https://doi.org/10.1177/0194599820929957; http...  \n",
       "30677  https://doi.org/10.1186/s13643-019-1024-6; htt...  \n",
       "33995  https://doi.org/10.1111/imr.12091; https://www...  \n",
       "34000  https://doi.org/10.2196/19981; https://www.ncb...  \n",
       "34192  https://doi.org/10.1128/jvi.01504-16; https://...  \n",
       "42308  https://doi.org/10.1016/j.sapharm.2018.10.003;...  "
      ]
     },
     "execution_count": 94,
     "metadata": {},
     "output_type": "execute_result"
    }
   ],
   "source": [
    "print(\"Articles realated to the virus genetics, origin, and evolution\")\n",
    "print()\n",
    "result.head(20)"
   ]
  },
  {
   "cell_type": "code",
   "execution_count": 95,
   "metadata": {},
   "outputs": [
    {
     "data": {
      "text/plain": [
       "bioRxiv                128\n",
       "Journal of virology     55\n",
       "PLoS One                17\n",
       "Virology                14\n",
       "Viruses                 11\n",
       "PLoS Pathog              9\n",
       "Nature                   8\n",
       "Virol J                  6\n",
       "Infect Genet Evol        6\n",
       "Virus Research           6\n",
       "Name: journal, dtype: int64"
      ]
     },
     "execution_count": 95,
     "metadata": {},
     "output_type": "execute_result"
    }
   ],
   "source": [
    "journals_gentics = result['journal'].value_counts()\n",
    "top_10 = journals_gentics.head(10)\n",
    "top_10"
   ]
  },
  {
   "cell_type": "code",
   "execution_count": 99,
   "metadata": {},
   "outputs": [
    {
     "data": {
      "text/plain": [
       "<AxesSubplot:title={'center':'Top 10 articles published about virus genetics, origin, and evolution'}>"
      ]
     },
     "execution_count": 99,
     "metadata": {},
     "output_type": "execute_result"
    },
    {
     "data": {
      "image/png": "[encoded data removed]",
      "text/plain": [
       "<Figure size 576x576 with 1 Axes>"
      ]
     },
     "metadata": {
      "needs_background": "light"
     },
     "output_type": "display_data"
    }
   ],
   "source": [
    "colors = [\"red\", \"green\", \"orange\", \"skyblue\", \"yellow\", \"coral\", \"cyan\", \"aqua\", \"lightgray\", \"palegreen\"]\n",
    "plt.title(\"Top 10 articles published about virus genetics, origin, and evolution\")\n",
    "top_10.plot(kind='bar',figsize=(8,8), color = colors)"
   ]
  },
  {
   "cell_type": "code",
   "execution_count": null,
   "metadata": {},
   "outputs": [],
   "source": []
  },
  {
   "cell_type": "code",
   "execution_count": null,
   "metadata": {},
   "outputs": [],
   "source": []
  }
 ],
 "metadata": {
  "kernelspec": {
   "display_name": "Python 3",
   "language": "python",
   "name": "python3"
  },
  "language_info": {
   "codemirror_mode": {
    "name": "ipython",
    "version": 3
   },
   "file_extension": ".py",
   "mimetype": "text/x-python",
   "name": "python",
   "nbconvert_exporter": "python",
   "pygments_lexer": "ipython3",
   "version": "3.8.2"
  }
 },
 "nbformat": 4,
 "nbformat_minor": 4
}
