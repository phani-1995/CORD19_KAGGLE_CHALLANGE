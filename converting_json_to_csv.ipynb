{
 "cells": [
  {
   "cell_type": "code",
   "execution_count": 2,
   "metadata": {},
   "outputs": [],
   "source": [
    "import os\n",
    "import json\n",
    "import numpy as np\n",
    "import pandas as pd\n",
    "from tqdm import tqdm"
   ]
  },
  {
   "cell_type": "code",
   "execution_count": 3,
   "metadata": {},
   "outputs": [
    {
     "name": "stdout",
     "output_type": "stream",
     "text": [
      "1625\n"
     ]
    }
   ],
   "source": [
    "data = \"/home/phani/cord-19_2020-04-10/2020-04-10/biorxiv_medrxiv/pdf_json/\"\n",
    "filenames = os.listdir(data)\n",
    "print(len(filenames))"
   ]
  },
  {
   "cell_type": "code",
   "execution_count": 4,
   "metadata": {},
   "outputs": [
    {
     "name": "stdout",
     "output_type": "stream",
     "text": [
      "Dictionary keys: dict_keys(['paper_id', 'metadata', 'abstract', 'body_text', 'bib_entries', 'ref_entries', 'back_matter'])\n"
     ]
    }
   ],
   "source": [
    "all_files = []\n",
    "for filename in filenames:\n",
    "    filename = data + filename\n",
    "    file = json.load(open(filename, 'rb'))\n",
    "    all_files.append(file)\n",
    "file = all_files[0]\n",
    "print(\"Dictionary keys:\", file.keys())"
   ]
  },
  {
   "cell_type": "code",
   "execution_count": 11,
   "metadata": {},
   "outputs": [
    {
     "name": "stdout",
     "output_type": "stream",
     "text": [
      "body_text content:\n",
      "[{'cite_spans': [{...}, {...}, {...}, {...}, {...}, {...}],\n",
      "  'ref_spans': [],\n",
      "  'section': 'Introduction',\n",
      "  'text': 'Since December 2019, coronavirus disease 2019 (COVID-19) caused by '\n",
      "          'severe acute respiratory syndrome coronavirus-2 (SARS-CoV-2) has '\n",
      "          'quickly spread across the world. 1 Approximately 20-30% of cases '\n",
      "          'would develop severe illness, and some need further intervention in '\n",
      "          'intensive care unit. Organ dysfunction including acute respiratory '\n",
      "          'distress syndrome, shock, acute cardiac injury, and acute renal '\n",
      "          'injury, could occur in severe cases with COVID-19, which lead to '\n",
      "          'poor clinical outcome. 2, 3 Following SARS-CoV-2 infection, a high '\n",
      "          'viral load and overexuberant host immune response involving innate '\n",
      "          'and acquired immunity, simultaneously contributes to the '\n",
      "          'pathogenesis of COVID-19 and organ injury. [2] [3] [4] The '\n",
      "          'activated host immunity is characterized as lymphopenia, cytokine '\n",
      "          'release storm (CRS), and dysfunctional immune responses to '\n",
      "          'virus-specific antigen. Increasing clinical data indicated that the '\n",
      "          'neutrophil-to-lymphocyte ratio (NLR) was identified as a powerful '\n",
      "          'predictive and prognostic indicator for severe COVID-19.'},\n",
      " {'cite_spans': [{...}],\n",
      "  'ref_spans': [],\n",
      "  'section': 'Introduction',\n",
      "  'text': 'However, the dynamic of anti-SARS-CoV-2 antibody upon virus '\n",
      "          'infection and their relation to disease status and outcome remains '\n",
      "          'to be determined. 5 Here, we evaluated antibody response within 35 '\n",
      "          'days after symptom onset in laboratory-confirmed case with COVID-19 '\n",
      "          'as one component of an overall exaggerated immune activation in '\n",
      "          'severe SARS-CoV-2 infection, and developed an immune phenotyping '\n",
      "          'based on late IgG response and NLR that could help determine '\n",
      "          'disease severity and clinical outcome of COVID-19 patients.'}]\n"
     ]
    }
   ],
   "source": [
    "print(\"body_text content:\")\n",
    "pprint(file['body_text'][:2], depth=3)"
   ]
  },
  {
   "cell_type": "code",
   "execution_count": 12,
   "metadata": {},
   "outputs": [
    {
     "name": "stdout",
     "output_type": "stream",
     "text": [
      "['Introduction',\n",
      " 'Data collection',\n",
      " 'Antibody and cytokine assay',\n",
      " 'Statistical analysis',\n",
      " 'Results',\n",
      " 'Discussion',\n",
      " 'Contributors',\n",
      " 'Declaration of interests',\n",
      " 'Data sharing',\n",
      " 'Acknowledgments',\n",
      " 'Figure legends']\n"
     ]
    }
   ],
   "source": [
    "texts = [(di['section'], di['text']) for di in file['body_text']]\n",
    "texts_di = {di['section']: \"\" for di in file['body_text']}\n",
    "for section, text in texts:\n",
    "    texts_di[section] += text\n",
    "\n",
    "pprint(list(texts_di.keys()))"
   ]
  },
  {
   "cell_type": "code",
   "execution_count": 13,
   "metadata": {},
   "outputs": [
    {
     "name": "stdout",
     "output_type": "stream",
     "text": [
      "Introduction\n",
      "\n",
      "Since December 2019, coronavirus disease 2019 (COVID-19) caused by severe acute respiratory syndrome coronavirus-2 (SARS-CoV-2) has quickly spread across the world. 1 Approximately 20-30% of cases would develop severe illness, and some need further intervention in intensive care unit. Organ dysfunction including acute respiratory distress syndrome, shock, acute cardiac injury, and acute renal injury, could occur in severe cases with COVID-19, which lead to poor clinical outcome. 2, 3 Following SARS-CoV-2 infection, a high viral load and overexuberant host immune response involving innate and acquired immunity, simultaneously contributes to the pathogenesis of COVID-19 and organ injury. [2] [3] [4] The activated host immunity is characterized as lymphopenia, cytokine release storm (CRS), and dysfunctional immune responses to virus-specific antigen. Increasing clinical data indicated that the neutrophil-to-lymphocyte ratio (NLR) was identified as a powerful predictive and prognostic indicator for severe COVID-19.However, the dynamic of anti-SARS-CoV-2 antibody upon virus infection and their relation to disease status and outcome remains to be determined. 5 Here, we evaluated antibody response within 35 days after symptom onset in laboratory-confirmed case with COVID-19 as one component of an overall exaggerated immune activation in severe SARS-CoV-2 infection, and developed an immune phenotyping based on late IgG response and NLR that could help determine disease severity and clinical outcome of COVID-19 patients.\n",
      "\n",
      "Data collection\n",
      "\n",
      "All included patients with COVID-19 had been admitted to the Renmin Hospital of Wuhan University, from January 13, 2020 to March 1, 2020. A total of 222 laboratory-confirmed COVID-19 patients were included in this study. The confirmed diagnosis of COVID-19 was defined as a positive result by using real-time reverse-transcriptase polymerase-chain-reaction (RT-PCR) detection for routine nasal and pharyngeal swab specimens or anti-SARS-CoV-2 antibody assay. Serum samples were collected at admission or convalescent-phase and were dated from the day of initial symptom onset. We retrospectively evaluated their anti-SARS-CoV-2 antibody response, clinical disease severity, and clinical outcome. This study received approval from the Research Ethics Committee of the Renmin Hospital of Wuhan University, Wuhan, China (approval number: WDRY2020-K094). The Research Ethics Committee waived the requirement informed consent before the study started because of the urgent need to collect epidemiological and clinical data. We analyzed all the data anonymously.The clinical features, including clinical symptoms, signs, laboratory analyses, treatment, and outcome, were obtained from the hospital's electronic medical records according to previously designed standardized data collection forms. The date of symptom onset, initial diagnosis of COVID-19, and death were recorded accurately. To increase the accuracy of collected data, tw\n"
     ]
    }
   ],
   "source": [
    "body = \"\"\n",
    "\n",
    "for section, text in texts_di.items():\n",
    "    body += section\n",
    "    body += \"\\n\\n\"\n",
    "    body += text\n",
    "    body += \"\\n\\n\"\n",
    "\n",
    "print(body[:3000])"
   ]
  },
  {
   "cell_type": "code",
   "execution_count": 15,
   "metadata": {},
   "outputs": [
    {
     "name": "stdout",
     "output_type": "stream",
     "text": [
      "dict_keys(['title', 'authors'])\n"
     ]
    }
   ],
   "source": [
    "#Seeing keys cobntained in metadata\n",
    "print(all_files[0]['metadata'].keys())"
   ]
  },
  {
   "cell_type": "code",
   "execution_count": 19,
   "metadata": {},
   "outputs": [
    {
     "data": {
      "text/plain": [
       "'Immune phenotyping based on neutrophil-to-lymphocyte ratio and IgG predicts disease severity and outcome for patients with COVID-19'"
      ]
     },
     "execution_count": 19,
     "metadata": {},
     "output_type": "execute_result"
    }
   ],
   "source": [
    "#Seeing the title\n",
    "all_files[0]['metadata']['title']"
   ]
  },
  {
   "cell_type": "code",
   "execution_count": 21,
   "metadata": {
    "scrolled": true
   },
   "outputs": [
    {
     "data": {
      "text/plain": [
       "[{'first': 'Bicheng',\n",
       "  'middle': [],\n",
       "  'last': 'Zhang',\n",
       "  'suffix': '',\n",
       "  'affiliation': {},\n",
       "  'email': ''},\n",
       " {'first': 'Xiaoyang',\n",
       "  'middle': [],\n",
       "  'last': 'Zhou',\n",
       "  'suffix': '',\n",
       "  'affiliation': {},\n",
       "  'email': ''},\n",
       " {'first': 'Chengliang',\n",
       "  'middle': [],\n",
       "  'last': 'Zhu',\n",
       "  'suffix': '',\n",
       "  'affiliation': {},\n",
       "  'email': ''}]"
      ]
     },
     "execution_count": 21,
     "metadata": {},
     "output_type": "execute_result"
    }
   ],
   "source": [
    "#printing the authors\n",
    "authors = all_files[0]['metadata']['authors']\n",
    "authors[:3]"
   ]
  },
  {
   "cell_type": "code",
   "execution_count": 29,
   "metadata": {},
   "outputs": [],
   "source": [
    "def format_name(author):\n",
    "    middle_name = \" \".join(author['middle'])\n",
    "    \n",
    "    if author['middle']:\n",
    "        return \" \".join([author['first'], middle_name, author['last']])\n",
    "    else:\n",
    "        return \" \".join([author['first'], author['last']])\n",
    "\n",
    "\n",
    "def format_affiliation(affiliation):\n",
    "    text = []\n",
    "    location = affiliation.get('location')\n",
    "    if location:\n",
    "        text.extend(list(affiliation['location'].values()))\n",
    "    \n",
    "    institution = affiliation.get('institution')\n",
    "    if institution:\n",
    "        text = [institution] + text\n",
    "    return \", \".join(text)\n",
    "\n",
    "def format_authors(authors, with_affiliation=False):\n",
    "    name_ls = []\n",
    "    \n",
    "    for author in authors:\n",
    "        name = format_name(author)\n",
    "        if with_affiliation:\n",
    "            affiliation = format_affiliation(author['affiliation'])\n",
    "            if affiliation:\n",
    "                name_ls.append(f\"{name} ({affiliation})\")\n",
    "            else:\n",
    "                name_ls.append(name)\n",
    "        else:\n",
    "            name_ls.append(name)\n",
    "    \n",
    "    return \", \".join(name_ls)\n",
    "\n",
    "def format_body(body_text):\n",
    "    texts = [(di['section'], di['text']) for di in body_text]\n",
    "    texts_di = {di['section']: \"\" for di in body_text}\n",
    "    \n",
    "    for section, text in texts:\n",
    "        texts_di[section] += text\n",
    "\n",
    "    body = \"\"\n",
    "\n",
    "    for section, text in texts_di.items():\n",
    "        body += section\n",
    "        body += \"\\n\\n\"\n",
    "        body += text\n",
    "        body += \"\\n\\n\"\n",
    "    \n",
    "    return body\n",
    "\n",
    "def format_bib(bibs):\n",
    "    if type(bibs) == dict:\n",
    "        bibs = list(bibs.values())\n",
    "    bibs = deepcopy(bibs)\n",
    "    formatted = []\n",
    "    \n",
    "    for bib in bibs:\n",
    "        bib['authors'] = format_authors(\n",
    "            bib['authors'], \n",
    "            with_affiliation=False\n",
    "        )\n",
    "        formatted_ls = [str(bib[k]) for k in ['title', 'authors', 'venue', 'year']]\n",
    "        formatted.append(\", \".join(formatted_ls))\n",
    "\n",
    "    return \"; \".join(formatted)"
   ]
  },
  {
   "cell_type": "code",
   "execution_count": 30,
   "metadata": {},
   "outputs": [
    {
     "name": "stdout",
     "output_type": "stream",
     "text": [
      "Name: Bicheng Zhang\n",
      "Affiliation: \n",
      "\n",
      "Name: Xiaoyang Zhou\n",
      "Affiliation: \n",
      "\n",
      "Name: Chengliang Zhu\n",
      "Affiliation: \n",
      "\n",
      "Name: Fan Feng\n",
      "Affiliation: \n",
      "\n",
      "Name: Yanru Qiu\n",
      "Affiliation: \n",
      "\n",
      "Name: Jia Feng\n",
      "Affiliation: \n",
      "\n",
      "Name: Qingzhu Jia\n",
      "Affiliation: \n",
      "\n",
      "Name: Qibin Song\n",
      "Affiliation: \n",
      "\n",
      "Name: Bo Zhu\n",
      "Affiliation: \n",
      "\n",
      "Name: Jun Wang\n",
      "Affiliation: \n",
      "\n",
      "Name:  Zhang\n",
      "Affiliation: \n",
      "\n",
      "Name: Y Qiu\n",
      "Affiliation: \n",
      "\n",
      "Name: F Feng\n",
      "Affiliation: \n",
      "\n",
      "Name: J Feng\n",
      "Affiliation: \n",
      "\n",
      "Name: ( Q Jia\n",
      "Affiliation: \n",
      "\n"
     ]
    }
   ],
   "source": [
    "for author in authors:\n",
    "    print(\"Name:\", format_name(author))\n",
    "    print(\"Affiliation:\", format_affiliation(author['affiliation']))\n",
    "    print()"
   ]
  },
  {
   "cell_type": "code",
   "execution_count": 31,
   "metadata": {},
   "outputs": [
    {
     "name": "stdout",
     "output_type": "stream",
     "text": [
      "Formatting without affiliation:\n",
      "Derrick Deming, Karen Lee, Tracey Mcsherry, Ronnie R Wei, Tim Edmunds, Scott C Garman\n",
      "\n",
      "Formatting with affiliation:\n",
      "Derrick Deming (University of Massachusetts, 9 01003, Amherst, MA, USA), Karen Lee (Biologics Research, 10 Massachusetts, 01701, Sanofi, Framingham, USA), Tracey Mcsherry (Biologics Research, 10 Massachusetts, 01701, Sanofi, Framingham, USA), Ronnie R Wei (Biologics Research, 10 Massachusetts, 01701, Sanofi, Framingham, USA), Tim Edmunds (Biologics Research, 10 Massachusetts, 01701, Sanofi, Framingham, USA), Scott C Garman (University of Massachusetts, 9 01003, Amherst, MA, USA)\n"
     ]
    }
   ],
   "source": [
    "#formating authors\n",
    "authors = all_files[4]['metadata']['authors']\n",
    "print(\"Formatting without affiliation:\")\n",
    "print(format_authors(authors, with_affiliation=False))\n",
    "print(\"\\nFormatting with affiliation:\")\n",
    "print(format_authors(authors, with_affiliation=True))"
   ]
  },
  {
   "cell_type": "code",
   "execution_count": 32,
   "metadata": {},
   "outputs": [
    {
     "name": "stdout",
     "output_type": "stream",
     "text": [
      "[{'authors': [{'first': 'F', 'last': 'Wu', 'middle': [], 'suffix': ''},\n",
      "              {'first': 'S', 'last': 'Zhao', 'middle': [], 'suffix': ''},\n",
      "              {'first': 'B', 'last': 'Yu', 'middle': [], 'suffix': ''}],\n",
      "  'issn': '',\n",
      "  'other_ids': {'DOI': ['10.1038/s41586-020-2008-3']},\n",
      "  'pages': '',\n",
      "  'ref_id': 'b0',\n",
      "  'title': 'A new coronavirus associated with human respiratory disease in '\n",
      "           'China',\n",
      "  'venue': 'Nature',\n",
      "  'volume': '',\n",
      "  'year': 2020},\n",
      " {'authors': [{'first': 'C', 'last': 'Huang', 'middle': [], 'suffix': ''},\n",
      "              {'first': 'Y', 'last': 'Wang', 'middle': [], 'suffix': ''},\n",
      "              {'first': 'X', 'last': 'Li', 'middle': [], 'suffix': ''}],\n",
      "  'issn': '',\n",
      "  'other_ids': {'DOI': ['10.1016/S0140-6736(20)30183-5']},\n",
      "  'pages': '497--506',\n",
      "  'ref_id': 'b1',\n",
      "  'title': 'Clinical features of patients infected with 2019 novel coronavirus '\n",
      "           'in Wuhan, China',\n",
      "  'venue': 'Lancet',\n",
      "  'volume': '395',\n",
      "  'year': 2020}]\n"
     ]
    }
   ],
   "source": [
    "bibs = list(file['bib_entries'].values())\n",
    "pprint(bibs[:2], depth=4)"
   ]
  },
  {
   "cell_type": "code",
   "execution_count": 33,
   "metadata": {},
   "outputs": [
    {
     "data": {
      "text/plain": [
       "'C Huang, Y Wang, X Li'"
      ]
     },
     "execution_count": 33,
     "metadata": {},
     "output_type": "execute_result"
    }
   ],
   "source": [
    "format_authors(bibs[1]['authors'], with_affiliation=False)"
   ]
  },
  {
   "cell_type": "code",
   "execution_count": 36,
   "metadata": {},
   "outputs": [
    {
     "name": "stdout",
     "output_type": "stream",
     "text": [
      "A new coronavirus associated with human respiratory disease in China, F Wu, S Zhao, B Yu, Nature, 2020; Clinical features of patients infected with 2019 novel coronavirus in Wuhan, China, C Huang, Y Wang, X Li, Lancet, 2020; Clinical characteristics of 138 hospitalized patients with 2019 novel coronavirus-infected pneumonia in Wuhan, China, D Wang, B Hu, C Hu, JAMA, 2020; Pathological findings of COVID-19 associated with acute respiratory distress syndrome, Z Xu, L Shi, Y Wang, Lancet, 2020; Neutrophil-to-lymphocyte ratio predicts severe illness patients with 2019 novel coronavirus in the early stage, J Liu, Y Liu, P Xiang, , None\n"
     ]
    }
   ],
   "source": [
    "from copy import deepcopy\n",
    "bib_formatted = format_bib(bibs[:5])\n",
    "print(bib_formatted)"
   ]
  },
  {
   "cell_type": "code",
   "execution_count": 37,
   "metadata": {},
   "outputs": [
    {
     "name": "stderr",
     "output_type": "stream",
     "text": [
      "100%|██████████| 1625/1625 [00:02<00:00, 809.69it/s]\n"
     ]
    }
   ],
   "source": [
    "cleaned_files = []\n",
    "\n",
    "for file in tqdm(all_files):\n",
    "    features = [\n",
    "        file['paper_id'],\n",
    "        file['metadata']['title'],\n",
    "        format_authors(file['metadata']['authors']),\n",
    "        format_authors(file['metadata']['authors'], \n",
    "                       with_affiliation=True),\n",
    "        format_body(file['abstract']),\n",
    "        format_body(file['body_text']),\n",
    "        format_bib(file['bib_entries']),\n",
    "        file['metadata']['authors'],\n",
    "        file['bib_entries']\n",
    "    ]\n",
    "    \n",
    "    cleaned_files.append(features)"
   ]
  },
  {
   "cell_type": "code",
   "execution_count": 38,
   "metadata": {},
   "outputs": [
    {
     "data": {
      "text/html": [
       "<div>\n",
       "<style scoped>\n",
       "    .dataframe tbody tr th:only-of-type {\n",
       "        vertical-align: middle;\n",
       "    }\n",
       "\n",
       "    .dataframe tbody tr th {\n",
       "        vertical-align: top;\n",
       "    }\n",
       "\n",
       "    .dataframe thead th {\n",
       "        text-align: right;\n",
       "    }\n",
       "</style>\n",
       "<table border=\"1\" class=\"dataframe\">\n",
       "  <thead>\n",
       "    <tr style=\"text-align: right;\">\n",
       "      <th></th>\n",
       "      <th>paper_id</th>\n",
       "      <th>title</th>\n",
       "      <th>authors</th>\n",
       "      <th>affiliations</th>\n",
       "      <th>abstract</th>\n",
       "      <th>text</th>\n",
       "      <th>bibliography</th>\n",
       "      <th>raw_authors</th>\n",
       "      <th>raw_bibliography</th>\n",
       "    </tr>\n",
       "  </thead>\n",
       "  <tbody>\n",
       "    <tr>\n",
       "      <th>0</th>\n",
       "      <td>97e0efc17b5a10c75f7c83b08423d27585a31df5</td>\n",
       "      <td>Immune phenotyping based on neutrophil-to-lymp...</td>\n",
       "      <td>Bicheng Zhang, Xiaoyang Zhou, Chengliang Zhu, ...</td>\n",
       "      <td>Bicheng Zhang, Xiaoyang Zhou, Chengliang Zhu, ...</td>\n",
       "      <td></td>\n",
       "      <td>Introduction\\n\\nSince December 2019, coronavir...</td>\n",
       "      <td>A new coronavirus associated with human respir...</td>\n",
       "      <td>[{'first': 'Bicheng', 'middle': [], 'last': 'Z...</td>\n",
       "      <td>{'BIBREF0': {'ref_id': 'b0', 'title': 'A new c...</td>\n",
       "    </tr>\n",
       "    <tr>\n",
       "      <th>1</th>\n",
       "      <td>33eff3ff8721d2abd9204e3aabd504e167f3f01d</td>\n",
       "      <td></td>\n",
       "      <td>Yoshiyuki Sugishita, Junko Kurita, Tamie Sugaw...</td>\n",
       "      <td>Yoshiyuki Sugishita (National Institute of Inf...</td>\n",
       "      <td>Abstract\\n\\nBackground: To control COVID-19 ou...</td>\n",
       "      <td>Introduction\\n\\nThe initial case of COVID-19 i...</td>\n",
       "      <td>Japan Ministry of Health, Labour and Welfare. ...</td>\n",
       "      <td>[{'first': 'Yoshiyuki', 'middle': [], 'last': ...</td>\n",
       "      <td>{'BIBREF0': {'ref_id': 'b0', 'title': 'Japan M...</td>\n",
       "    </tr>\n",
       "    <tr>\n",
       "      <th>2</th>\n",
       "      <td>c03736c4e12dd89176ccb6d67df4b0bdaecf15dd</td>\n",
       "      <td>Temperature dependence of COVID-19 transmission</td>\n",
       "      <td>Alessio Notari</td>\n",
       "      <td>Alessio Notari (Universitat de Barcelona, Mart...</td>\n",
       "      <td>Abstract\\n\\nThe recent coronavirus pandemic fo...</td>\n",
       "      <td>INTRODUCTION\\n\\nThe recent coronavirus (COVID-...</td>\n",
       "      <td>The Effects of Temperature and Relative Humidi...</td>\n",
       "      <td>[{'first': 'Alessio', 'middle': [], 'last': 'N...</td>\n",
       "      <td>{'BIBREF0': {'ref_id': 'b0', 'title': 'The Eff...</td>\n",
       "    </tr>\n",
       "    <tr>\n",
       "      <th>3</th>\n",
       "      <td>1f632ba80bc3f4c8a48b5d436dd843c3c48bbcf2</td>\n",
       "      <td>PriSeT: Efficient De Novo Primer Discovery</td>\n",
       "      <td>Marie Hoffmann, Michael T Monaghan, Knut Reinert</td>\n",
       "      <td>Marie Hoffmann, Michael T Monaghan, Knut Reinert</td>\n",
       "      <td>Abstract\\n\\nMotivation: DNA metabarcoding is a...</td>\n",
       "      <td>\\n\\nmonly applied technique used to infer the ...</td>\n",
       "      <td>A molecular evolutionary framework for the phy...</td>\n",
       "      <td>[{'first': 'Marie', 'middle': [], 'last': 'Hof...</td>\n",
       "      <td>{'BIBREF1': {'ref_id': 'b1', 'title': 'A molec...</td>\n",
       "    </tr>\n",
       "    <tr>\n",
       "      <th>4</th>\n",
       "      <td>3c70c99afc7a38df3c4807857856ea258d378429</td>\n",
       "      <td>The molecular basis for Pompe disease 3 reveal...</td>\n",
       "      <td>Derrick Deming, Karen Lee, Tracey Mcsherry, Ro...</td>\n",
       "      <td>Derrick Deming (University of Massachusetts, 9...</td>\n",
       "      <td>Abstract\\n\\nPompe disease results from a defec...</td>\n",
       "      <td>\\n\\nIntroduction encompasses residues 347-726 ...</td>\n",
       "      <td>therapy (ERT) in late-onset Type II Glycogenos...</td>\n",
       "      <td>[{'first': 'Derrick', 'middle': [], 'last': 'D...</td>\n",
       "      <td>{'BIBREF0': {'ref_id': 'b0', 'title': 'therapy...</td>\n",
       "    </tr>\n",
       "  </tbody>\n",
       "</table>\n",
       "</div>"
      ],
      "text/plain": [
       "                                   paper_id  \\\n",
       "0  97e0efc17b5a10c75f7c83b08423d27585a31df5   \n",
       "1  33eff3ff8721d2abd9204e3aabd504e167f3f01d   \n",
       "2  c03736c4e12dd89176ccb6d67df4b0bdaecf15dd   \n",
       "3  1f632ba80bc3f4c8a48b5d436dd843c3c48bbcf2   \n",
       "4  3c70c99afc7a38df3c4807857856ea258d378429   \n",
       "\n",
       "                                               title  \\\n",
       "0  Immune phenotyping based on neutrophil-to-lymp...   \n",
       "1                                                      \n",
       "2    Temperature dependence of COVID-19 transmission   \n",
       "3         PriSeT: Efficient De Novo Primer Discovery   \n",
       "4  The molecular basis for Pompe disease 3 reveal...   \n",
       "\n",
       "                                             authors  \\\n",
       "0  Bicheng Zhang, Xiaoyang Zhou, Chengliang Zhu, ...   \n",
       "1  Yoshiyuki Sugishita, Junko Kurita, Tamie Sugaw...   \n",
       "2                                     Alessio Notari   \n",
       "3   Marie Hoffmann, Michael T Monaghan, Knut Reinert   \n",
       "4  Derrick Deming, Karen Lee, Tracey Mcsherry, Ro...   \n",
       "\n",
       "                                        affiliations  \\\n",
       "0  Bicheng Zhang, Xiaoyang Zhou, Chengliang Zhu, ...   \n",
       "1  Yoshiyuki Sugishita (National Institute of Inf...   \n",
       "2  Alessio Notari (Universitat de Barcelona, Mart...   \n",
       "3   Marie Hoffmann, Michael T Monaghan, Knut Reinert   \n",
       "4  Derrick Deming (University of Massachusetts, 9...   \n",
       "\n",
       "                                            abstract  \\\n",
       "0                                                      \n",
       "1  Abstract\\n\\nBackground: To control COVID-19 ou...   \n",
       "2  Abstract\\n\\nThe recent coronavirus pandemic fo...   \n",
       "3  Abstract\\n\\nMotivation: DNA metabarcoding is a...   \n",
       "4  Abstract\\n\\nPompe disease results from a defec...   \n",
       "\n",
       "                                                text  \\\n",
       "0  Introduction\\n\\nSince December 2019, coronavir...   \n",
       "1  Introduction\\n\\nThe initial case of COVID-19 i...   \n",
       "2  INTRODUCTION\\n\\nThe recent coronavirus (COVID-...   \n",
       "3  \\n\\nmonly applied technique used to infer the ...   \n",
       "4  \\n\\nIntroduction encompasses residues 347-726 ...   \n",
       "\n",
       "                                        bibliography  \\\n",
       "0  A new coronavirus associated with human respir...   \n",
       "1  Japan Ministry of Health, Labour and Welfare. ...   \n",
       "2  The Effects of Temperature and Relative Humidi...   \n",
       "3  A molecular evolutionary framework for the phy...   \n",
       "4  therapy (ERT) in late-onset Type II Glycogenos...   \n",
       "\n",
       "                                         raw_authors  \\\n",
       "0  [{'first': 'Bicheng', 'middle': [], 'last': 'Z...   \n",
       "1  [{'first': 'Yoshiyuki', 'middle': [], 'last': ...   \n",
       "2  [{'first': 'Alessio', 'middle': [], 'last': 'N...   \n",
       "3  [{'first': 'Marie', 'middle': [], 'last': 'Hof...   \n",
       "4  [{'first': 'Derrick', 'middle': [], 'last': 'D...   \n",
       "\n",
       "                                    raw_bibliography  \n",
       "0  {'BIBREF0': {'ref_id': 'b0', 'title': 'A new c...  \n",
       "1  {'BIBREF0': {'ref_id': 'b0', 'title': 'Japan M...  \n",
       "2  {'BIBREF0': {'ref_id': 'b0', 'title': 'The Eff...  \n",
       "3  {'BIBREF1': {'ref_id': 'b1', 'title': 'A molec...  \n",
       "4  {'BIBREF0': {'ref_id': 'b0', 'title': 'therapy...  "
      ]
     },
     "execution_count": 38,
     "metadata": {},
     "output_type": "execute_result"
    }
   ],
   "source": [
    "col_names = [\n",
    "    'paper_id', \n",
    "    'title', \n",
    "    'authors',\n",
    "    'affiliations', \n",
    "    'abstract', \n",
    "    'text', \n",
    "    'bibliography',\n",
    "    'raw_authors',\n",
    "    'raw_bibliography'\n",
    "]\n",
    "\n",
    "clean_df = pd.DataFrame(cleaned_files, columns=col_names)\n",
    "clean_df.head()\n"
   ]
  },
  {
   "cell_type": "code",
   "execution_count": 39,
   "metadata": {},
   "outputs": [],
   "source": [
    "clean_df.to_csv('biorxiv_clean.csv', index=False)"
   ]
  },
  {
   "cell_type": "code",
   "execution_count": null,
   "metadata": {},
   "outputs": [],
   "source": []
  }
 ],
 "metadata": {
  "kernelspec": {
   "display_name": "Python 3",
   "language": "python",
   "name": "python3"
  },
  "language_info": {
   "codemirror_mode": {
    "name": "ipython",
    "version": 3
   },
   "file_extension": ".py",
   "mimetype": "text/x-python",
   "name": "python",
   "nbconvert_exporter": "python",
   "pygments_lexer": "ipython3",
   "version": "3.8.2"
  }
 },
 "nbformat": 4,
 "nbformat_minor": 4
}
