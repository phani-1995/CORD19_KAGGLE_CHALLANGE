{
 "cells": [
  {
   "cell_type": "code",
   "execution_count": 1,
   "metadata": {},
   "outputs": [],
   "source": [
    "import pandas as pd \n",
    "import re\n",
    "df = pd.read_csv('/home/phani/cord-19_2020-04-10/2020-04-10/metadata.csv')"
   ]
  },
  {
   "cell_type": "code",
   "execution_count": 3,
   "metadata": {},
   "outputs": [
    {
     "data": {
      "text/plain": [
       "(51078, 18)"
      ]
     },
     "execution_count": 3,
     "metadata": {},
     "output_type": "execute_result"
    }
   ],
   "source": [
    "df.shape"
   ]
  },
  {
   "cell_type": "code",
   "execution_count": 4,
   "metadata": {},
   "outputs": [
    {
     "data": {
      "text/html": [
       "<div>\n",
       "<style scoped>\n",
       "    .dataframe tbody tr th:only-of-type {\n",
       "        vertical-align: middle;\n",
       "    }\n",
       "\n",
       "    .dataframe tbody tr th {\n",
       "        vertical-align: top;\n",
       "    }\n",
       "\n",
       "    .dataframe thead th {\n",
       "        text-align: right;\n",
       "    }\n",
       "</style>\n",
       "<table border=\"1\" class=\"dataframe\">\n",
       "  <thead>\n",
       "    <tr style=\"text-align: right;\">\n",
       "      <th></th>\n",
       "      <th>title</th>\n",
       "      <th>abstract</th>\n",
       "      <th>publish_time</th>\n",
       "      <th>url</th>\n",
       "      <th>authors</th>\n",
       "    </tr>\n",
       "  </thead>\n",
       "  <tbody>\n",
       "    <tr>\n",
       "      <th>0</th>\n",
       "      <td>Airborne rhinovirus detection and effect of ul...</td>\n",
       "      <td>BACKGROUND: Rhinovirus, the most common cause ...</td>\n",
       "      <td>2003-01-13</td>\n",
       "      <td>https://www.ncbi.nlm.nih.gov/pmc/articles/PMC1...</td>\n",
       "      <td>Myatt, Theodore A; Johnston, Sebastian L; Rudn...</td>\n",
       "    </tr>\n",
       "    <tr>\n",
       "      <th>1</th>\n",
       "      <td>Discovering human history from stomach bacteria</td>\n",
       "      <td>Recent analyses of human pathogens have reveal...</td>\n",
       "      <td>2003-04-28</td>\n",
       "      <td>https://www.ncbi.nlm.nih.gov/pmc/articles/PMC1...</td>\n",
       "      <td>Disotell, Todd R</td>\n",
       "    </tr>\n",
       "    <tr>\n",
       "      <th>2</th>\n",
       "      <td>A new recruit for the army of the men of death</td>\n",
       "      <td>The army of the men of death, in John Bunyan's...</td>\n",
       "      <td>2003-06-27</td>\n",
       "      <td>https://www.ncbi.nlm.nih.gov/pmc/articles/PMC1...</td>\n",
       "      <td>Petsko, Gregory A</td>\n",
       "    </tr>\n",
       "    <tr>\n",
       "      <th>3</th>\n",
       "      <td>Association of HLA class I with severe acute r...</td>\n",
       "      <td>BACKGROUND: The human leukocyte antigen (HLA) ...</td>\n",
       "      <td>2003-09-12</td>\n",
       "      <td>https://www.ncbi.nlm.nih.gov/pmc/articles/PMC2...</td>\n",
       "      <td>Lin, Marie; Tseng, Hsiang-Kuang; Trejaut, Jean...</td>\n",
       "    </tr>\n",
       "    <tr>\n",
       "      <th>4</th>\n",
       "      <td>A double epidemic model for the SARS propagation</td>\n",
       "      <td>BACKGROUND: An epidemic of a Severe Acute Resp...</td>\n",
       "      <td>2003-09-10</td>\n",
       "      <td>https://www.ncbi.nlm.nih.gov/pmc/articles/PMC2...</td>\n",
       "      <td>Ng, Tuen Wai; Turinici, Gabriel; Danchin, Antoine</td>\n",
       "    </tr>\n",
       "  </tbody>\n",
       "</table>\n",
       "</div>"
      ],
      "text/plain": [
       "                                               title  \\\n",
       "0  Airborne rhinovirus detection and effect of ul...   \n",
       "1    Discovering human history from stomach bacteria   \n",
       "2     A new recruit for the army of the men of death   \n",
       "3  Association of HLA class I with severe acute r...   \n",
       "4   A double epidemic model for the SARS propagation   \n",
       "\n",
       "                                            abstract publish_time  \\\n",
       "0  BACKGROUND: Rhinovirus, the most common cause ...   2003-01-13   \n",
       "1  Recent analyses of human pathogens have reveal...   2003-04-28   \n",
       "2  The army of the men of death, in John Bunyan's...   2003-06-27   \n",
       "3  BACKGROUND: The human leukocyte antigen (HLA) ...   2003-09-12   \n",
       "4  BACKGROUND: An epidemic of a Severe Acute Resp...   2003-09-10   \n",
       "\n",
       "                                                 url  \\\n",
       "0  https://www.ncbi.nlm.nih.gov/pmc/articles/PMC1...   \n",
       "1  https://www.ncbi.nlm.nih.gov/pmc/articles/PMC1...   \n",
       "2  https://www.ncbi.nlm.nih.gov/pmc/articles/PMC1...   \n",
       "3  https://www.ncbi.nlm.nih.gov/pmc/articles/PMC2...   \n",
       "4  https://www.ncbi.nlm.nih.gov/pmc/articles/PMC2...   \n",
       "\n",
       "                                             authors  \n",
       "0  Myatt, Theodore A; Johnston, Sebastian L; Rudn...  \n",
       "1                                   Disotell, Todd R  \n",
       "2                                  Petsko, Gregory A  \n",
       "3  Lin, Marie; Tseng, Hsiang-Kuang; Trejaut, Jean...  \n",
       "4  Ng, Tuen Wai; Turinici, Gabriel; Danchin, Antoine  "
      ]
     },
     "execution_count": 4,
     "metadata": {},
     "output_type": "execute_result"
    }
   ],
   "source": [
    "#selecting specific columns\n",
    "##these include the title of the article, its abstract, date, link to the article, and authors\n",
    "journels = df[['title', 'abstract', 'publish_time', 'url', 'authors']]\n",
    "journels.head()"
   ]
  },
  {
   "cell_type": "code",
   "execution_count": 7,
   "metadata": {},
   "outputs": [
    {
     "name": "stderr",
     "output_type": "stream",
     "text": [
      "<ipython-input-7-464869a7c955>:3: SettingWithCopyWarning: \n",
      "A value is trying to be set on a copy of a slice from a DataFrame.\n",
      "Try using .loc[row_indexer,col_indexer] = value instead\n",
      "\n",
      "See the caveats in the documentation: https://pandas.pydata.org/pandas-docs/stable/user_guide/indexing.html#returning-a-view-versus-a-copy\n",
      "  journels['words'] = journels.abstract.str.strip().str.split('[\\W_]+')\n"
     ]
    },
    {
     "data": {
      "text/plain": [
       "0    [BACKGROUND, Rhinovirus, the, most, common, ca...\n",
       "1    [Recent, analyses, of, human, pathogens, have,...\n",
       "2    [The, army, of, the, men, of, death, in, John,...\n",
       "3    [BACKGROUND, The, human, leukocyte, antigen, H...\n",
       "4    [BACKGROUND, An, epidemic, of, a, Severe, Acut...\n",
       "Name: words, dtype: object"
      ]
     },
     "execution_count": 7,
     "metadata": {},
     "output_type": "execute_result"
    }
   ],
   "source": [
    "##ABSTRACTS\n",
    "#separate each word in the ABSTRACT column\n",
    "journels['words'] = journels.abstract.str.strip().str.split('[\\W_]+')\n",
    "journels['words'].head()"
   ]
  },
  {
   "cell_type": "code",
   "execution_count": 8,
   "metadata": {},
   "outputs": [],
   "source": [
    "#separate words in the abstract column and create a new column\n",
    "abstracts = journels[journels.words.str.len() > 0]"
   ]
  },
  {
   "cell_type": "code",
   "execution_count": 9,
   "metadata": {},
   "outputs": [],
   "source": [
    "# saving the dataframe \n",
    "abstracts.to_csv('Journal_Abrstracts.csv') "
   ]
  },
  {
   "cell_type": "code",
   "execution_count": 10,
   "metadata": {},
   "outputs": [
    {
     "data": {
      "text/html": [
       "<div>\n",
       "<style scoped>\n",
       "    .dataframe tbody tr th:only-of-type {\n",
       "        vertical-align: middle;\n",
       "    }\n",
       "\n",
       "    .dataframe tbody tr th {\n",
       "        vertical-align: top;\n",
       "    }\n",
       "\n",
       "    .dataframe thead th {\n",
       "        text-align: right;\n",
       "    }\n",
       "</style>\n",
       "<table border=\"1\" class=\"dataframe\">\n",
       "  <thead>\n",
       "    <tr style=\"text-align: right;\">\n",
       "      <th></th>\n",
       "      <th>title</th>\n",
       "      <th>abstract</th>\n",
       "      <th>publish_time</th>\n",
       "      <th>url</th>\n",
       "      <th>authors</th>\n",
       "      <th>words</th>\n",
       "    </tr>\n",
       "  </thead>\n",
       "  <tbody>\n",
       "    <tr>\n",
       "      <th>0</th>\n",
       "      <td>Airborne rhinovirus detection and effect of ul...</td>\n",
       "      <td>BACKGROUND: Rhinovirus, the most common cause ...</td>\n",
       "      <td>2003-01-13</td>\n",
       "      <td>https://www.ncbi.nlm.nih.gov/pmc/articles/PMC1...</td>\n",
       "      <td>Myatt, Theodore A; Johnston, Sebastian L; Rudn...</td>\n",
       "      <td>[BACKGROUND, Rhinovirus, the, most, common, ca...</td>\n",
       "    </tr>\n",
       "    <tr>\n",
       "      <th>1</th>\n",
       "      <td>Discovering human history from stomach bacteria</td>\n",
       "      <td>Recent analyses of human pathogens have reveal...</td>\n",
       "      <td>2003-04-28</td>\n",
       "      <td>https://www.ncbi.nlm.nih.gov/pmc/articles/PMC1...</td>\n",
       "      <td>Disotell, Todd R</td>\n",
       "      <td>[Recent, analyses, of, human, pathogens, have,...</td>\n",
       "    </tr>\n",
       "    <tr>\n",
       "      <th>2</th>\n",
       "      <td>A new recruit for the army of the men of death</td>\n",
       "      <td>The army of the men of death, in John Bunyan's...</td>\n",
       "      <td>2003-06-27</td>\n",
       "      <td>https://www.ncbi.nlm.nih.gov/pmc/articles/PMC1...</td>\n",
       "      <td>Petsko, Gregory A</td>\n",
       "      <td>[The, army, of, the, men, of, death, in, John,...</td>\n",
       "    </tr>\n",
       "  </tbody>\n",
       "</table>\n",
       "</div>"
      ],
      "text/plain": [
       "                                               title  \\\n",
       "0  Airborne rhinovirus detection and effect of ul...   \n",
       "1    Discovering human history from stomach bacteria   \n",
       "2     A new recruit for the army of the men of death   \n",
       "\n",
       "                                            abstract publish_time  \\\n",
       "0  BACKGROUND: Rhinovirus, the most common cause ...   2003-01-13   \n",
       "1  Recent analyses of human pathogens have reveal...   2003-04-28   \n",
       "2  The army of the men of death, in John Bunyan's...   2003-06-27   \n",
       "\n",
       "                                                 url  \\\n",
       "0  https://www.ncbi.nlm.nih.gov/pmc/articles/PMC1...   \n",
       "1  https://www.ncbi.nlm.nih.gov/pmc/articles/PMC1...   \n",
       "2  https://www.ncbi.nlm.nih.gov/pmc/articles/PMC1...   \n",
       "\n",
       "                                             authors  \\\n",
       "0  Myatt, Theodore A; Johnston, Sebastian L; Rudn...   \n",
       "1                                   Disotell, Todd R   \n",
       "2                                  Petsko, Gregory A   \n",
       "\n",
       "                                               words  \n",
       "0  [BACKGROUND, Rhinovirus, the, most, common, ca...  \n",
       "1  [Recent, analyses, of, human, pathogens, have,...  \n",
       "2  [The, army, of, the, men, of, death, in, John,...  "
      ]
     },
     "execution_count": 10,
     "metadata": {},
     "output_type": "execute_result"
    }
   ],
   "source": [
    "#display dataframe\n",
    "abstracts.head(3)"
   ]
  },
  {
   "cell_type": "code",
   "execution_count": 11,
   "metadata": {},
   "outputs": [
    {
     "data": {
      "text/plain": [
       "(42352, 6)"
      ]
     },
     "execution_count": 11,
     "metadata": {},
     "output_type": "execute_result"
    }
   ],
   "source": [
    "abstracts.shape\n"
   ]
  },
  {
   "cell_type": "markdown",
   "metadata": {},
   "source": [
    "# BROWSING THE ABSTRACTS FOR ANSWERS\n",
    "Related to modes of communicating with target high-risk populations (elderly, health care workers)."
   ]
  },
  {
   "cell_type": "code",
   "execution_count": 12,
   "metadata": {},
   "outputs": [],
   "source": [
    "#looking for abstracts with specific terms among publications\n",
    "#in the dataset provided by Kaggle\n",
    "\n",
    "Q1A=abstracts[abstracts['abstract'].str.contains('communicating')]\n",
    "\n",
    "Q1B=abstracts[abstracts['abstract'].str.contains('with high-risk')]\n",
    "\n",
    "Q1C=abstracts[abstracts['abstract'].str.contains('contacting')]\n",
    "\n",
    "Q1D=abstracts[abstracts['abstract'].str.contains('elderly')]\n",
    "\n",
    "Q1F=abstracts[abstracts['abstract'].str.contains('health care workers')]\n",
    "\n",
    "Q1E=abstracts[abstracts['abstract'].str.contains('risk population')]"
   ]
  },
  {
   "cell_type": "code",
   "execution_count": 13,
   "metadata": {},
   "outputs": [],
   "source": [
    "# Concatenating the dataframes into one table per question\n",
    "Question1= pd.concat([Q1A, Q1B, Q1C, Q1D, Q1E, Q1F])\n",
    "\n",
    "# dropping null value columns to avoid errors \n",
    "Question1.dropna(inplace = True) "
   ]
  },
  {
   "cell_type": "code",
   "execution_count": 14,
   "metadata": {},
   "outputs": [
    {
     "data": {
      "text/plain": [
       "(721, 6)"
      ]
     },
     "execution_count": 14,
     "metadata": {},
     "output_type": "execute_result"
    }
   ],
   "source": [
    "Question1.shape"
   ]
  },
  {
   "cell_type": "code",
   "execution_count": 19,
   "metadata": {},
   "outputs": [
    {
     "name": "stdout",
     "output_type": "stream",
     "text": [
      "modes of communicating with target high-risk populations (elderly, health care workers\n",
      "\n"
     ]
    },
    {
     "data": {
      "text/html": [
       "<div>\n",
       "<style scoped>\n",
       "    .dataframe tbody tr th:only-of-type {\n",
       "        vertical-align: middle;\n",
       "    }\n",
       "\n",
       "    .dataframe tbody tr th {\n",
       "        vertical-align: top;\n",
       "    }\n",
       "\n",
       "    .dataframe thead th {\n",
       "        text-align: right;\n",
       "    }\n",
       "</style>\n",
       "<table border=\"1\" class=\"dataframe\">\n",
       "  <thead>\n",
       "    <tr style=\"text-align: right;\">\n",
       "      <th></th>\n",
       "      <th>title</th>\n",
       "      <th>abstract</th>\n",
       "      <th>publish_time</th>\n",
       "      <th>url</th>\n",
       "      <th>authors</th>\n",
       "      <th>words</th>\n",
       "    </tr>\n",
       "  </thead>\n",
       "  <tbody>\n",
       "    <tr>\n",
       "      <th>192</th>\n",
       "      <td>The Internet as a Vehicle to Communicate Healt...</td>\n",
       "      <td>BACKGROUND: The recent public health risks ari...</td>\n",
       "      <td>2004-03-03</td>\n",
       "      <td>https://www.ncbi.nlm.nih.gov/pmc/articles/PMC1...</td>\n",
       "      <td>Kittler, Anne F; Hobbs, John; Volk, Lynn A; Kr...</td>\n",
       "      <td>[BACKGROUND, The, recent, public, health, risk...</td>\n",
       "    </tr>\n",
       "    <tr>\n",
       "      <th>193</th>\n",
       "      <td>What Internet Services Would Patients Like Fro...</td>\n",
       "      <td>BACKGROUND: International health organizations...</td>\n",
       "      <td>2005-08-03</td>\n",
       "      <td>https://www.ncbi.nlm.nih.gov/pmc/articles/PMC1...</td>\n",
       "      <td>Rizo, Carlos A; Lupea, Doina; Baybourdy, Homay...</td>\n",
       "      <td>[BACKGROUND, International, health, organizati...</td>\n",
       "    </tr>\n",
       "    <tr>\n",
       "      <th>1349</th>\n",
       "      <td>Travel and migration associated infectious dis...</td>\n",
       "      <td>BACKGROUND: Europeans represent the majority o...</td>\n",
       "      <td>2010-11-17</td>\n",
       "      <td>https://www.ncbi.nlm.nih.gov/pmc/articles/PMC3...</td>\n",
       "      <td>Field, Vanessa; Gautret, Philippe; Schlagenhau...</td>\n",
       "      <td>[BACKGROUND, Europeans, represent, the, majori...</td>\n",
       "    </tr>\n",
       "    <tr>\n",
       "      <th>1508</th>\n",
       "      <td>Communicating uncertainty - how Australian tel...</td>\n",
       "      <td>BACKGROUND: Health officials face particular c...</td>\n",
       "      <td>2011-03-24</td>\n",
       "      <td>https://www.ncbi.nlm.nih.gov/pmc/articles/PMC3...</td>\n",
       "      <td>Fogarty, Andrea S; Holland, Kate; Imison, Mich...</td>\n",
       "      <td>[BACKGROUND, Health, officials, face, particul...</td>\n",
       "    </tr>\n",
       "    <tr>\n",
       "      <th>8322</th>\n",
       "      <td>A mechanistic spatio-temporal framework for mo...</td>\n",
       "      <td>In recent years there has been growing availab...</td>\n",
       "      <td>2017-10-30</td>\n",
       "      <td>https://www.ncbi.nlm.nih.gov/pmc/articles/PMC5...</td>\n",
       "      <td>Lau, Max S. Y.; Gibson, Gavin J.; Adrakey, Hol...</td>\n",
       "      <td>[In, recent, years, there, has, been, growing,...</td>\n",
       "    </tr>\n",
       "  </tbody>\n",
       "</table>\n",
       "</div>"
      ],
      "text/plain": [
       "                                                  title  \\\n",
       "192   The Internet as a Vehicle to Communicate Healt...   \n",
       "193   What Internet Services Would Patients Like Fro...   \n",
       "1349  Travel and migration associated infectious dis...   \n",
       "1508  Communicating uncertainty - how Australian tel...   \n",
       "8322  A mechanistic spatio-temporal framework for mo...   \n",
       "\n",
       "                                               abstract publish_time  \\\n",
       "192   BACKGROUND: The recent public health risks ari...   2004-03-03   \n",
       "193   BACKGROUND: International health organizations...   2005-08-03   \n",
       "1349  BACKGROUND: Europeans represent the majority o...   2010-11-17   \n",
       "1508  BACKGROUND: Health officials face particular c...   2011-03-24   \n",
       "8322  In recent years there has been growing availab...   2017-10-30   \n",
       "\n",
       "                                                    url  \\\n",
       "192   https://www.ncbi.nlm.nih.gov/pmc/articles/PMC1...   \n",
       "193   https://www.ncbi.nlm.nih.gov/pmc/articles/PMC1...   \n",
       "1349  https://www.ncbi.nlm.nih.gov/pmc/articles/PMC3...   \n",
       "1508  https://www.ncbi.nlm.nih.gov/pmc/articles/PMC3...   \n",
       "8322  https://www.ncbi.nlm.nih.gov/pmc/articles/PMC5...   \n",
       "\n",
       "                                                authors  \\\n",
       "192   Kittler, Anne F; Hobbs, John; Volk, Lynn A; Kr...   \n",
       "193   Rizo, Carlos A; Lupea, Doina; Baybourdy, Homay...   \n",
       "1349  Field, Vanessa; Gautret, Philippe; Schlagenhau...   \n",
       "1508  Fogarty, Andrea S; Holland, Kate; Imison, Mich...   \n",
       "8322  Lau, Max S. Y.; Gibson, Gavin J.; Adrakey, Hol...   \n",
       "\n",
       "                                                  words  \n",
       "192   [BACKGROUND, The, recent, public, health, risk...  \n",
       "193   [BACKGROUND, International, health, organizati...  \n",
       "1349  [BACKGROUND, Europeans, represent, the, majori...  \n",
       "1508  [BACKGROUND, Health, officials, face, particul...  \n",
       "8322  [In, recent, years, there, has, been, growing,...  "
      ]
     },
     "execution_count": 19,
     "metadata": {},
     "output_type": "execute_result"
    }
   ],
   "source": [
    "#Relevant articles in the dataset to Q1\n",
    "print(\"modes of communicating with target high-risk populations (elderly, health care workers\")\n",
    "print()\n",
    "Question1.head()"
   ]
  },
  {
   "cell_type": "code",
   "execution_count": 28,
   "metadata": {},
   "outputs": [
    {
     "data": {
      "text/plain": [
       "721"
      ]
     },
     "execution_count": 28,
     "metadata": {},
     "output_type": "execute_result"
    }
   ],
   "source": [
    "x1 = Question1.url.count()\n",
    "x1"
   ]
  },
  {
   "cell_type": "code",
   "execution_count": 21,
   "metadata": {},
   "outputs": [],
   "source": [
    "#686 articles identified for QUESTION 1\n",
    "## Saved as CSV file\n",
    "Question1.to_csv('Q1_articles_Ways_of_communicating_with_highrisk_pop.csv')"
   ]
  },
  {
   "cell_type": "markdown",
   "metadata": {},
   "source": [
    "Management of patients who are underhoused or otherwise lower socioeconomic status."
   ]
  },
  {
   "cell_type": "code",
   "execution_count": 22,
   "metadata": {},
   "outputs": [],
   "source": [
    "##Term: homeless\n",
    "Q2a=abstracts[abstracts['abstract'].str.contains('homeless')]\n",
    "\n",
    "Q2b=abstracts[abstracts['abstract'].str.contains('low income')]\n",
    "\n",
    "#Q2c=abstracts[abstracts['abstract'].str.contains('poverty')]\n",
    "\n",
    "Q2c=abstracts[abstracts['abstract'].str.contains('housing')]"
   ]
  },
  {
   "cell_type": "code",
   "execution_count": 24,
   "metadata": {},
   "outputs": [
    {
     "data": {
      "text/plain": [
       "(139, 6)"
      ]
     },
     "execution_count": 24,
     "metadata": {},
     "output_type": "execute_result"
    }
   ],
   "source": [
    "# Concatenating the dataframes into one table per question\n",
    "Question2= pd.concat([Q2a,Q2b,Q2c])\n",
    "# dropping null value columns to avoid errors \n",
    "Question2.dropna(inplace = True) \n",
    "\n",
    "Question2.shape"
   ]
  },
  {
   "cell_type": "code",
   "execution_count": 29,
   "metadata": {},
   "outputs": [
    {
     "data": {
      "text/plain": [
       "139"
      ]
     },
     "execution_count": 29,
     "metadata": {},
     "output_type": "execute_result"
    }
   ],
   "source": [
    "x2 = Question2.url.count()\n",
    "x2"
   ]
  },
  {
   "cell_type": "code",
   "execution_count": 30,
   "metadata": {},
   "outputs": [],
   "source": [
    "# saving the dataframe of ARTICLES related to Q2\n",
    "#Question2.to_csv('Q2_Mangmnt_underhoused_or_low_income_patients.csv')"
   ]
  },
  {
   "cell_type": "markdown",
   "metadata": {},
   "source": [
    "What are ways to create hospital infrastructure to prevent nosocomial outbreaks and protect uninfected patients?"
   ]
  },
  {
   "cell_type": "code",
   "execution_count": 31,
   "metadata": {},
   "outputs": [
    {
     "data": {
      "text/plain": [
       "(73, 6)"
      ]
     },
     "execution_count": 31,
     "metadata": {},
     "output_type": "execute_result"
    }
   ],
   "source": [
    "q3a=abstracts[abstracts['abstract'].str.contains('hospital spread')]\n",
    "q3b=abstracts[abstracts['abstract'].str.contains('hospital patients')]\n",
    "q3c=abstracts[abstracts['abstract'].str.contains('nosocomial outbreak')]\n",
    "\n",
    "# Concatenating the dataframes into one table per question\n",
    "Q3= pd.concat([q3a,q3b,q3c])\n",
    "# dropping null value columns to avoid errors \n",
    "Q3.dropna(inplace = True) \n",
    "\n",
    "Q3.shape"
   ]
  },
  {
   "cell_type": "code",
   "execution_count": 33,
   "metadata": {},
   "outputs": [
    {
     "data": {
      "text/plain": [
       "73"
      ]
     },
     "execution_count": 33,
     "metadata": {},
     "output_type": "execute_result"
    }
   ],
   "source": [
    "x3 = Q3.url.count()\n",
    "x3"
   ]
  },
  {
   "cell_type": "markdown",
   "metadata": {},
   "source": [
    "What are methods to control the spread in communities, barriers to compliance"
   ]
  },
  {
   "cell_type": "code",
   "execution_count": 34,
   "metadata": {},
   "outputs": [
    {
     "data": {
      "text/plain": [
       "(278, 6)"
      ]
     },
     "execution_count": 34,
     "metadata": {},
     "output_type": "execute_result"
    }
   ],
   "source": [
    "##Term: compliance\n",
    "q4A=abstracts[abstracts['abstract'].str.contains('compliance')]\n",
    "\n",
    "q4B=abstracts[abstracts['abstract'].str.contains('community spread')]\n",
    "\n",
    "q4C=abstracts[abstracts['abstract'].str.contains('prevent spread')]\n",
    "\n",
    "q4D=abstracts[abstracts['abstract'].str.contains('methods to prevent')]\n",
    "\n",
    "# Concatenating the dataframes into one table per question\n",
    "Question4= pd.concat([q4A,q4B,q4C, q4D])\n",
    "# dropping null value columns to avoid errors \n",
    "Question4.dropna(inplace = True) \n",
    "\n",
    "Question4.shape"
   ]
  },
  {
   "cell_type": "code",
   "execution_count": 41,
   "metadata": {},
   "outputs": [
    {
     "data": {
      "text/plain": [
       "278"
      ]
     },
     "execution_count": 41,
     "metadata": {},
     "output_type": "execute_result"
    }
   ],
   "source": [
    "x4 = Question4.url.count()\n",
    "x4"
   ]
  },
  {
   "cell_type": "markdown",
   "metadata": {},
   "source": [
    " What are recommendations for combating/overcoming resource failures"
   ]
  },
  {
   "cell_type": "code",
   "execution_count": 37,
   "metadata": {},
   "outputs": [],
   "source": [
    "q5a=abstracts[abstracts['abstract'].str.contains('not reach')]\n",
    "\n",
    "q5b=abstracts[abstracts['abstract'].str.contains('improve access')]\n",
    "\n",
    "q5c=abstracts[abstracts['abstract'].str.contains('access to resource')]\n",
    "\n",
    "q5d=abstracts[abstracts['abstract'].str.contains('outreach')]\n",
    "\n",
    "q5e=abstracts[abstracts['abstract'].str.contains('faulty')]\n",
    "\n",
    "q5f=abstracts[abstracts['abstract'].str.contains('meet demand')]\n",
    "\n",
    "q5g=abstracts[abstracts['abstract'].str.contains('waste')]"
   ]
  },
  {
   "cell_type": "code",
   "execution_count": 38,
   "metadata": {},
   "outputs": [
    {
     "data": {
      "text/plain": [
       "(239, 6)"
      ]
     },
     "execution_count": 38,
     "metadata": {},
     "output_type": "execute_result"
    }
   ],
   "source": [
    "# Concatenating the dataframes into one table per question\n",
    "Question5= pd.concat([q5a,q5b,q5c, q5d, q5e, q5f, q5g])\n",
    "# dropping null value columns to avoid errors \n",
    "Question5.dropna(inplace = True) \n",
    "\n",
    "Question5.shape"
   ]
  },
  {
   "cell_type": "code",
   "execution_count": 40,
   "metadata": {},
   "outputs": [
    {
     "data": {
      "text/plain": [
       "239"
      ]
     },
     "execution_count": 40,
     "metadata": {},
     "output_type": "execute_result"
    }
   ],
   "source": [
    "x5 = Question5.url.count()\n",
    "x5"
   ]
  },
  {
   "cell_type": "code",
   "execution_count": 54,
   "metadata": {},
   "outputs": [
    {
     "data": {
      "image/png": "[encoded data removed]",
      "text/plain": [
       "<Figure size 720x360 with 1 Axes>"
      ]
     },
     "metadata": {
      "needs_background": "light"
     },
     "output_type": "display_data"
    }
   ],
   "source": [
    "from matplotlib import pyplot as plt\n",
    "import seaborn as sns \n",
    "categories = ['target high-risk populations', 'Management of patients', 'ways to create hospital infrastructure',\n",
    "             'methods to control the spread in communities', 'recommendations for combating/overcoming resource failures']\n",
    "data = [x1,x2,x3,x4,x5]\n",
    "\n",
    "\n",
    "fig = plt.figure(figsize = (10, 5)) \n",
    "plt.barh(categories, data) \n",
    "plt.xlabel(\"No of articles\") \n",
    "plt.ylabel(\"Articles Published\")\n",
    "plt.title(\"Articles published on Covid 19\") \n",
    "plt.show() "
   ]
  },
  {
   "cell_type": "code",
   "execution_count": null,
   "metadata": {},
   "outputs": [],
   "source": []
  },
  {
   "cell_type": "code",
   "execution_count": null,
   "metadata": {},
   "outputs": [],
   "source": []
  }
 ],
 "metadata": {
  "kernelspec": {
   "display_name": "Python 3",
   "language": "python",
   "name": "python3"
  },
  "language_info": {
   "codemirror_mode": {
    "name": "ipython",
    "version": 3
   },
   "file_extension": ".py",
   "mimetype": "text/x-python",
   "name": "python",
   "nbconvert_exporter": "python",
   "pygments_lexer": "ipython3",
   "version": "3.8.2"
  }
 },
 "nbformat": 4,
 "nbformat_minor": 4
}
