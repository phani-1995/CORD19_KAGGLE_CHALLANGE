{
 "cells": [
  {
   "cell_type": "code",
   "execution_count": 1,
   "metadata": {},
   "outputs": [
    {
     "name": "stdout",
     "output_type": "stream",
     "text": [
      "Collecting elasticsearch\n",
      "  Downloading elasticsearch-7.8.1-py2.py3-none-any.whl (188 kB)\n",
      "\u001b[K     |████████████████████████████████| 188 kB 1.3 MB/s eta 0:00:01\n",
      "\u001b[?25hRequirement already satisfied: urllib3>=1.21.1 in /usr/lib/python3/dist-packages (from elasticsearch) (1.25.8)\n",
      "Requirement already satisfied: certifi in /usr/lib/python3/dist-packages (from elasticsearch) (2019.11.28)\n",
      "Installing collected packages: elasticsearch\n",
      "Successfully installed elasticsearch-7.8.1\n"
     ]
    }
   ],
   "source": [
    "!pip3 install elasticsearch"
   ]
  },
  {
   "cell_type": "code",
   "execution_count": 2,
   "metadata": {},
   "outputs": [],
   "source": [
    "from elasticsearch import Elasticsearch\n",
    "es = Elasticsearch([{'host': 'localhost', 'port': 9200}])"
   ]
  },
  {
   "cell_type": "code",
   "execution_count": 4,
   "metadata": {},
   "outputs": [
    {
     "name": "stdout",
     "output_type": "stream",
     "text": [
      "{'took': 213, 'timed_out': False, '_shards': {'total': 1, 'successful': 1, 'skipped': 0, 'failed': 0}, 'hits': {'total': {'value': 2596, 'relation': 'eq'}, 'max_score': None, 'hits': []}}\n"
     ]
    }
   ],
   "source": [
    "res = es.search(index=\"diagnostics\",\n",
    "               body={\"from\": 0, \"size\": 0, \"query\": {\"match_all\": {}}})\n",
    "print(res)"
   ]
  },
  {
   "cell_type": "code",
   "execution_count": 5,
   "metadata": {},
   "outputs": [
    {
     "name": "stdout",
     "output_type": "stream",
     "text": [
      "{'took': 15, 'timed_out': False, '_shards': {'total': 1, 'successful': 1, 'skipped': 0, 'failed': 0}, 'hits': {'total': {'value': 10, 'relation': 'eq'}, 'max_score': None, 'hits': []}}\n"
     ]
    }
   ],
   "source": [
    "res = es.search(index=\"marks\",\n",
    "               body={\"from\": 0, \"size\": 0, \"query\": {\"match_all\": {}}})\n",
    "print(res)"
   ]
  },
  {
   "cell_type": "code",
   "execution_count": 13,
   "metadata": {},
   "outputs": [
    {
     "data": {
      "text/plain": [
       "{'took': 35,\n",
       " 'timed_out': False,\n",
       " '_shards': {'total': 1, 'successful': 1, 'skipped': 0, 'failed': 0},\n",
       " 'hits': {'total': {'value': 0, 'relation': 'eq'},\n",
       "  'max_score': None,\n",
       "  'hits': []}}"
      ]
     },
     "execution_count": 13,
     "metadata": {},
     "output_type": "execute_result"
    }
   ],
   "source": [
    "es.search(index = \"diagnostics\",body = {\n",
    "            \"query\": { \n",
    "                \"bool\": { \n",
    "                    \"must\": [\n",
    "                        { \"match\": { 'abstract': 'diagnostics studies' }}\n",
    "                  ],\n",
    "                }\n",
    "              }\n",
    "            })"
   ]
  },
  {
   "cell_type": "code",
   "execution_count": 16,
   "metadata": {},
   "outputs": [
    {
     "data": {
      "text/plain": [
       "{'took': 103,\n",
       " 'timed_out': False,\n",
       " '_shards': {'total': 1, 'successful': 1, 'skipped': 0, 'failed': 0},\n",
       " 'hits': {'total': {'value': 2596, 'relation': 'eq'},\n",
       "  'max_score': 1.0,\n",
       "  'hits': [{'_index': 'diagnostics',\n",
       "    '_type': '_doc',\n",
       "    '_id': 'Q5-D8XMBAHBXEOEFfb86',\n",
       "    '_score': 1.0,\n",
       "    '_source': {'abstract': 'https://doi.org/10.1007/s41403-020-00126-6'}},\n",
       "   {'_index': 'diagnostics',\n",
       "    '_type': '_doc',\n",
       "    '_id': 'RJ-D8XMBAHBXEOEFfb86',\n",
       "    '_score': 1.0,\n",
       "    '_source': {'abstract': 'https://www.ncbi.nlm.nih.gov/pubmed/14767816/'}},\n",
       "   {'_index': 'diagnostics',\n",
       "    '_type': '_doc',\n",
       "    '_id': 'RZ-D8XMBAHBXEOEFfb86',\n",
       "    '_score': 1.0,\n",
       "    '_source': {'abstract': 'https://www.ncbi.nlm.nih.gov/pubmed/26755048/; https://doi.org/10.1007/s00405-015-3872-6'}},\n",
       "   {'_index': 'diagnostics',\n",
       "    '_type': '_doc',\n",
       "    '_id': 'Rp-D8XMBAHBXEOEFfb86',\n",
       "    '_score': 1.0,\n",
       "    '_source': {'abstract': 'https://api.elsevier.com/content/article/pii/B9780123745378000304; https://www.sciencedirect.com/science/article/pii/B9780123745378000304'}},\n",
       "   {'_index': 'diagnostics',\n",
       "    '_type': '_doc',\n",
       "    '_id': 'R5-D8XMBAHBXEOEFfb86',\n",
       "    '_score': 1.0,\n",
       "    '_source': {'abstract': 'https://www.ncbi.nlm.nih.gov/pubmed/19291427/; https://doi.org/10.1007/s12033-009-9164-x'}},\n",
       "   {'_index': 'diagnostics',\n",
       "    '_type': '_doc',\n",
       "    '_id': 'SJ-D8XMBAHBXEOEFfb86',\n",
       "    '_score': 1.0,\n",
       "    '_source': {'abstract': 'https://doi.org/10.1002/adhm.201500708; https://www.ncbi.nlm.nih.gov/pubmed/26592501/'}},\n",
       "   {'_index': 'diagnostics',\n",
       "    '_type': '_doc',\n",
       "    '_id': 'SZ-D8XMBAHBXEOEFfb86',\n",
       "    '_score': 1.0,\n",
       "    '_source': {'abstract': 'https://www.ncbi.nlm.nih.gov/pubmed/30866536/; https://doi.org/10.3390/molecules24050941'}},\n",
       "   {'_index': 'diagnostics',\n",
       "    '_type': '_doc',\n",
       "    '_id': 'Sp-D8XMBAHBXEOEFfb86',\n",
       "    '_score': 1.0,\n",
       "    '_source': {'abstract': 'https://doi.org/10.1101/269936'}},\n",
       "   {'_index': 'diagnostics',\n",
       "    '_type': '_doc',\n",
       "    '_id': 'S5-D8XMBAHBXEOEFfb86',\n",
       "    '_score': 1.0,\n",
       "    '_source': {'abstract': 'https://www.ncbi.nlm.nih.gov/pubmed/17493140/'}},\n",
       "   {'_index': 'diagnostics',\n",
       "    '_type': '_doc',\n",
       "    '_id': 'TJ-D8XMBAHBXEOEFfb86',\n",
       "    '_score': 1.0,\n",
       "    '_source': {'abstract': 'https://www.ncbi.nlm.nih.gov/pubmed/31334612/; https://doi.org/10.1111/irv.12648'}}]}}"
      ]
     },
     "execution_count": 16,
     "metadata": {},
     "output_type": "execute_result"
    }
   ],
   "source": [
    "es.search(index=\"diagnostics\", body={\"_source\": [\"abstract\"], \n",
    "                                     \"query\": {\"range\": \n",
    "                                               {\"publish_time\": \n",
    "                                                {\"gt\":\"2020-01-01\"}}}})"
   ]
  },
  {
   "cell_type": "code",
   "execution_count": 50,
   "metadata": {},
   "outputs": [],
   "source": [
    "# res1 = es.search(index=\"diagnostics\",body={\n",
    "#                                           \"query\":\n",
    "#                                               {\"match_phrase\":\n",
    "#                                                   {\"abstract\":{\"query\":\"diagnostics studies\"}\n",
    "#                                                   }},\n",
    "#                                                   \"explain\":False})"
   ]
  },
  {
   "cell_type": "code",
   "execution_count": 53,
   "metadata": {},
   "outputs": [
    {
     "ename": "TypeError",
     "evalue": "index() missing 1 required positional argument: 'body'",
     "output_type": "error",
     "traceback": [
      "\u001b[0;31m---------------------------------------------------------------------------\u001b[0m",
      "\u001b[0;31mTypeError\u001b[0m                                 Traceback (most recent call last)",
      "\u001b[0;32m<ipython-input-53-f9fc71048936>\u001b[0m in \u001b[0;36m<module>\u001b[0;34m\u001b[0m\n\u001b[1;32m      1\u001b[0m \u001b[0;31m#res1\u001b[0m\u001b[0;34m\u001b[0m\u001b[0;34m\u001b[0m\u001b[0;34m\u001b[0m\u001b[0m\n\u001b[0;32m----> 2\u001b[0;31m \u001b[0mres1\u001b[0m \u001b[0;34m=\u001b[0m \u001b[0mes\u001b[0m\u001b[0;34m.\u001b[0m\u001b[0mindex\u001b[0m\u001b[0;34m(\u001b[0m\u001b[0mindex\u001b[0m\u001b[0;34m=\u001b[0m\u001b[0;34m\"diagnostics\"\u001b[0m\u001b[0;34m,\u001b[0m \u001b[0mid\u001b[0m\u001b[0;34m=\u001b[0m\u001b[0;36m1\u001b[0m\u001b[0;34m)\u001b[0m\u001b[0;34m\u001b[0m\u001b[0;34m\u001b[0m\u001b[0m\n\u001b[0m\u001b[1;32m      3\u001b[0m \u001b[0mprint\u001b[0m\u001b[0;34m(\u001b[0m\u001b[0mres1\u001b[0m\u001b[0;34m[\u001b[0m\u001b[0;34m\"_source\"\u001b[0m\u001b[0;34m]\u001b[0m\u001b[0;34m)\u001b[0m\u001b[0;34m\u001b[0m\u001b[0;34m\u001b[0m\u001b[0m\n",
      "\u001b[0;32m~/.local/lib/python3.8/site-packages/elasticsearch/client/utils.py\u001b[0m in \u001b[0;36m_wrapped\u001b[0;34m(*args, **kwargs)\u001b[0m\n\u001b[1;32m    137\u001b[0m                 \u001b[0;32mif\u001b[0m \u001b[0mp\u001b[0m \u001b[0;32min\u001b[0m \u001b[0mkwargs\u001b[0m\u001b[0;34m:\u001b[0m\u001b[0;34m\u001b[0m\u001b[0;34m\u001b[0m\u001b[0m\n\u001b[1;32m    138\u001b[0m                     \u001b[0mparams\u001b[0m\u001b[0;34m[\u001b[0m\u001b[0mp\u001b[0m\u001b[0;34m]\u001b[0m \u001b[0;34m=\u001b[0m \u001b[0mkwargs\u001b[0m\u001b[0;34m.\u001b[0m\u001b[0mpop\u001b[0m\u001b[0;34m(\u001b[0m\u001b[0mp\u001b[0m\u001b[0;34m)\u001b[0m\u001b[0;34m\u001b[0m\u001b[0;34m\u001b[0m\u001b[0m\n\u001b[0;32m--> 139\u001b[0;31m             \u001b[0;32mreturn\u001b[0m \u001b[0mfunc\u001b[0m\u001b[0;34m(\u001b[0m\u001b[0;34m*\u001b[0m\u001b[0margs\u001b[0m\u001b[0;34m,\u001b[0m \u001b[0mparams\u001b[0m\u001b[0;34m=\u001b[0m\u001b[0mparams\u001b[0m\u001b[0;34m,\u001b[0m \u001b[0mheaders\u001b[0m\u001b[0;34m=\u001b[0m\u001b[0mheaders\u001b[0m\u001b[0;34m,\u001b[0m \u001b[0;34m**\u001b[0m\u001b[0mkwargs\u001b[0m\u001b[0;34m)\u001b[0m\u001b[0;34m\u001b[0m\u001b[0;34m\u001b[0m\u001b[0m\n\u001b[0m\u001b[1;32m    140\u001b[0m \u001b[0;34m\u001b[0m\u001b[0m\n\u001b[1;32m    141\u001b[0m         \u001b[0;32mreturn\u001b[0m \u001b[0m_wrapped\u001b[0m\u001b[0;34m\u001b[0m\u001b[0;34m\u001b[0m\u001b[0m\n",
      "\u001b[0;31mTypeError\u001b[0m: index() missing 1 required positional argument: 'body'"
     ]
    }
   ],
   "source": [
    "#res1\n",
    "res1 = es.index(index=\"diagnostics\", id=1, body=doc)\n",
    "print(res1[\"_source\"])"
   ]
  },
  {
   "cell_type": "code",
   "execution_count": 26,
   "metadata": {},
   "outputs": [
    {
     "data": {
      "text/plain": [
       "True"
      ]
     },
     "execution_count": 26,
     "metadata": {},
     "output_type": "execute_result"
    }
   ],
   "source": [
    "#Looking wheather index exist or not\n",
    "es.indices.exists(index=\"diagnostics\")"
   ]
  },
  {
   "cell_type": "code",
   "execution_count": 37,
   "metadata": {},
   "outputs": [],
   "source": [
    "# Get the data which is present in the _source key\n",
    "\n",
    "res[\"_source\"]\n"
   ]
  },
  {
   "cell_type": "code",
   "execution_count": 47,
   "metadata": {},
   "outputs": [
    {
     "data": {
      "text/plain": [
       "{'took': 21,\n",
       " 'timed_out': False,\n",
       " '_shards': {'total': 1, 'successful': 1, 'skipped': 0, 'failed': 0},\n",
       " 'hits': {'total': {'value': 0, 'relation': 'eq'},\n",
       "  'max_score': None,\n",
       "  'hits': []}}"
      ]
     },
     "execution_count": 47,
     "metadata": {},
     "output_type": "execute_result"
    }
   ],
   "source": [
    "body = {\n",
    "    \"from\":0,\n",
    "    \"size\":5,\n",
    "    \"_source\": [\"abstract\"],\n",
    "    \"query\": {\n",
    "        \"match_phrase\": {\n",
    "            \"abstract\":\"diagnostics studies\"\n",
    "        }\n",
    "    }\n",
    "}\n",
    "\n",
    "res2 = es.search(index=\"diagnostics\", body=body)\n",
    "res2"
   ]
  },
  {
   "cell_type": "code",
   "execution_count": 49,
   "metadata": {},
   "outputs": [
    {
     "data": {
      "text/plain": [
       "{'took': 16,\n",
       " 'timed_out': False,\n",
       " '_shards': {'total': 1, 'successful': 1, 'skipped': 0, 'failed': 0},\n",
       " 'hits': {'total': {'value': 0, 'relation': 'eq'},\n",
       "  'max_score': None,\n",
       "  'hits': []}}"
      ]
     },
     "execution_count": 49,
     "metadata": {},
     "output_type": "execute_result"
    }
   ],
   "source": [
    "es.search(index=\"diagnostics\", body={\"_source\": [\"abstract\"], \n",
    "                                     \"query\": {\"match_phrase\":{\n",
    "                                            \"abstract\":\"diagnostics studies\"\n",
    "                                            }}})"
   ]
  },
  {
   "cell_type": "code",
   "execution_count": 55,
   "metadata": {},
   "outputs": [
    {
     "name": "stdout",
     "output_type": "stream",
     "text": [
      "{'took': 78, 'timed_out': False, '_shards': {'total': 1, 'successful': 1, 'skipped': 0, 'failed': 0}, 'hits': {'total': {'value': 10000, 'relation': 'gte'}, 'max_score': None, 'hits': []}}\n"
     ]
    }
   ],
   "source": [
    "res2 = es.search(index=\"metafile\",\n",
    "               body={\"from\": 0, \"size\": 0, \"query\": {\"match_all\": {}}})\n",
    "print(res2)"
   ]
  },
  {
   "cell_type": "code",
   "execution_count": 56,
   "metadata": {},
   "outputs": [
    {
     "data": {
      "text/plain": [
       "{'took': 9916,\n",
       " 'timed_out': False,\n",
       " '_shards': {'total': 1, 'successful': 1, 'skipped': 0, 'failed': 0},\n",
       " 'hits': {'total': {'value': 0, 'relation': 'eq'},\n",
       "  'max_score': None,\n",
       "  'hits': []}}"
      ]
     },
     "execution_count": 56,
     "metadata": {},
     "output_type": "execute_result"
    }
   ],
   "source": [
    "es.search(index=\"metafile\", body={\"_source\": [\"abstract\"], \n",
    "                                     \"query\": {\"match_phrase\":{\n",
    "                                            \"abstract\":\"diagnostics studies\"\n",
    "                                            }}})"
   ]
  },
  {
   "cell_type": "code",
   "execution_count": 57,
   "metadata": {},
   "outputs": [
    {
     "ename": "KeyError",
     "evalue": "'_source'",
     "output_type": "error",
     "traceback": [
      "\u001b[0;31m---------------------------------------------------------------------------\u001b[0m",
      "\u001b[0;31mKeyError\u001b[0m                                  Traceback (most recent call last)",
      "\u001b[0;32m<ipython-input-57-fec5f4f044a7>\u001b[0m in \u001b[0;36m<module>\u001b[0;34m\u001b[0m\n\u001b[0;32m----> 1\u001b[0;31m \u001b[0mprint\u001b[0m\u001b[0;34m(\u001b[0m\u001b[0mres2\u001b[0m\u001b[0;34m[\u001b[0m\u001b[0;34m'_source'\u001b[0m\u001b[0;34m]\u001b[0m\u001b[0;34m)\u001b[0m\u001b[0;34m\u001b[0m\u001b[0;34m\u001b[0m\u001b[0m\n\u001b[0m",
      "\u001b[0;31mKeyError\u001b[0m: '_source'"
     ]
    }
   ],
   "source": [
    "print(res2['_source'])"
   ]
  },
  {
   "cell_type": "code",
   "execution_count": null,
   "metadata": {},
   "outputs": [],
   "source": []
  }
 ],
 "metadata": {
  "kernelspec": {
   "display_name": "Python 3",
   "language": "python",
   "name": "python3"
  },
  "language_info": {
   "codemirror_mode": {
    "name": "ipython",
    "version": 3
   },
   "file_extension": ".py",
   "mimetype": "text/x-python",
   "name": "python",
   "nbconvert_exporter": "python",
   "pygments_lexer": "ipython3",
   "version": "3.8.2"
  }
 },
 "nbformat": 4,
 "nbformat_minor": 4
}
