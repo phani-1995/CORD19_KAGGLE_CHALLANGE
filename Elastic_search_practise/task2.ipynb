{
 "cells": [
  {
   "cell_type": "code",
   "execution_count": 1,
   "metadata": {},
   "outputs": [],
   "source": [
    "#connect to our cluster\n",
    "from elasticsearch import Elasticsearch\n",
    "es = Elasticsearch([{'host': 'localhost', 'port': 9200}])"
   ]
  },
  {
   "cell_type": "code",
   "execution_count": 6,
   "metadata": {},
   "outputs": [
    {
     "name": "stdout",
     "output_type": "stream",
     "text": [
      "COVID-19 transmission risk factors\n",
      "14.1697855\n",
      "**********************\n",
      "COVID-19 transmission risk factors\n",
      "14.1697855\n",
      "**********************\n",
      "Risk factors for death from COVID-19\n",
      "13.104927\n",
      "**********************\n",
      "Risk factors for death from COVID-19\n",
      "13.104927\n",
      "**********************\n",
      "Risk factors for death from COVID-19\n",
      "13.104927\n",
      "**********************\n",
      "Risk Factors for Mortality of COVID-19 Patients\n",
      "12.630342\n",
      "**********************\n",
      "Risk factors for mortality among COVID-19 patients\n",
      "12.630342\n",
      "**********************\n",
      "Risk Factors for Mortality among COVID-19 Patients\n",
      "12.630342\n",
      "**********************\n",
      "Transmission and risk factors of OF COVID-19.\n",
      "12.630342\n",
      "**********************\n",
      "Transmission and risk factors of OF COVID-19\n",
      "12.630342\n",
      "**********************\n"
     ]
    }
   ],
   "source": [
    "#connect to our cluster\n",
    "from elasticsearch import Elasticsearch\n",
    "res= es.search(index='metafile',body={\n",
    "        'query':{\n",
    "            'match':{\n",
    "                \"title\":\"COVID-19 risk factors\"\n",
    "            }\n",
    "        }\n",
    "    })\n",
    "for hit in res['hits']['hits']:\n",
    "    print(hit['_source']['title']) \n",
    "    print(hit['_score'])\n",
    "    print('**********************')"
   ]
  },
  {
   "cell_type": "code",
   "execution_count": null,
   "metadata": {},
   "outputs": [],
   "source": []
  }
 ],
 "metadata": {
  "kernelspec": {
   "display_name": "Python 3",
   "language": "python",
   "name": "python3"
  },
  "language_info": {
   "codemirror_mode": {
    "name": "ipython",
    "version": 3
   },
   "file_extension": ".py",
   "mimetype": "text/x-python",
   "name": "python",
   "nbconvert_exporter": "python",
   "pygments_lexer": "ipython3",
   "version": "3.8.2"
  }
 },
 "nbformat": 4,
 "nbformat_minor": 4
}
